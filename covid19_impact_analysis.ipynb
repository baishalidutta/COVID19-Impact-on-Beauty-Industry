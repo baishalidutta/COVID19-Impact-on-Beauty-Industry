{
 "cells": [
  {
   "cell_type": "markdown",
   "metadata": {},
   "source": [
    "<p align=\"left\">\n",
    "\t<img width=\"450\" alt=\"logo\" src=\"https://user-images.githubusercontent.com/76659596/117782464-f2240f80-b241-11eb-9991-6d99fc5bc0f1.png\">\n",
    "</p>"
   ]
  },
  {
   "cell_type": "markdown",
   "metadata": {},
   "source": [
    "This notebook comprises the stock analysis of different beauty consumer companies and the impact caused on the stock data due to COVID-19 pandemic. Primarily, the stocks of the following companies have been considered for the analysis -\n",
    "\n",
    "* M.A.C\n",
    "* Estée Lauder Companies\n",
    "* ULTA Beauty Inc.\n",
    "* E.L.F Beauty Inc.\n",
    "* Revlon Inc.\n",
    "\n",
    "The stock data for the last 30 months have been extracted from `Yahoo Finance` using its Web APIs. "
   ]
  },
  {
   "cell_type": "markdown",
   "metadata": {},
   "source": [
    "## Data Extraction"
   ]
  },
  {
   "cell_type": "markdown",
   "metadata": {},
   "source": [
    "### Import Libraries"
   ]
  },
  {
   "cell_type": "code",
   "execution_count": 1,
   "metadata": {},
   "outputs": [],
   "source": [
    "import numpy as np\n",
    "import pandas as pd\n",
    "\n",
    "# Data Extraction and Load\n",
    "from pandas_datareader import data, wb\n",
    "from datetime import datetime\n",
    "\n",
    "# Feature Scaling\n",
    "from sklearn.preprocessing import MinMaxScaler\n",
    "\n",
    "# Data Visualization\n",
    "import matplotlib.pyplot as plt\n",
    "import seaborn as sns\n",
    "%matplotlib inline\n",
    "\n",
    "# Deep Learning\n",
    "from keras.models import Sequential\n",
    "from keras.layers import Dense, Dropout, LSTM\n",
    "\n",
    "# AutoCompletion not enabled by default while working with Python 3.7.x using Jupyter\n",
    "%config Completer.use_jedi = False"
   ]
  },
  {
   "cell_type": "markdown",
   "metadata": {},
   "source": [
    "### Extract Stock Data using `Yahoo Finance` Stock API"
   ]
  },
  {
   "cell_type": "markdown",
   "metadata": {},
   "source": [
    "Assuming pandemic lockdown started in `March, 2020` which is around `15 months` till now, the purpose is to prepare a nearly balanced dataset for normal time (non-pandemic lockdown) and pandemic time. Hence, the starting date of the stock under consideration is adjusted to `Dec 1, 2018`."
   ]
  },
  {
   "cell_type": "code",
   "execution_count": 2,
   "metadata": {},
   "outputs": [],
   "source": [
    "end_date = datetime.now()\n",
    "start_date = datetime(2018, 12, 1)"
   ]
  },
  {
   "cell_type": "code",
   "execution_count": 3,
   "metadata": {},
   "outputs": [],
   "source": [
    "def get_stock_data(ticker_symbol, source='yahoo'):\n",
    "    return data.DataReader(ticker_symbol, source, start_date, end_date)"
   ]
  },
  {
   "cell_type": "code",
   "execution_count": 4,
   "metadata": {},
   "outputs": [],
   "source": [
    "# M.A.C\n",
    "MAC = get_stock_data('MAC')\n",
    "\n",
    "# Estée Lauder Companies\n",
    "EL = get_stock_data('EL')\n",
    "\n",
    "# ULTA Beauty Inc.\n",
    "ULTA = get_stock_data('ULTA')\n",
    "\n",
    "# E.L.F Beauty Inc.\n",
    "ELF = get_stock_data('ELF')\n",
    "\n",
    "# Revlon Inc.\n",
    "REV = get_stock_data('REV')"
   ]
  },
  {
   "cell_type": "markdown",
   "metadata": {},
   "source": [
    "### Insight into respective dataframes"
   ]
  },
  {
   "cell_type": "code",
   "execution_count": 5,
   "metadata": {},
   "outputs": [
    {
     "data": {
      "text/html": [
       "<div>\n",
       "<style scoped>\n",
       "    .dataframe tbody tr th:only-of-type {\n",
       "        vertical-align: middle;\n",
       "    }\n",
       "\n",
       "    .dataframe tbody tr th {\n",
       "        vertical-align: top;\n",
       "    }\n",
       "\n",
       "    .dataframe thead th {\n",
       "        text-align: right;\n",
       "    }\n",
       "</style>\n",
       "<table border=\"1\" class=\"dataframe\">\n",
       "  <thead>\n",
       "    <tr style=\"text-align: right;\">\n",
       "      <th></th>\n",
       "      <th>High</th>\n",
       "      <th>Low</th>\n",
       "      <th>Open</th>\n",
       "      <th>Close</th>\n",
       "      <th>Volume</th>\n",
       "      <th>Adj Close</th>\n",
       "    </tr>\n",
       "    <tr>\n",
       "      <th>Date</th>\n",
       "      <th></th>\n",
       "      <th></th>\n",
       "      <th></th>\n",
       "      <th></th>\n",
       "      <th></th>\n",
       "      <th></th>\n",
       "    </tr>\n",
       "  </thead>\n",
       "  <tbody>\n",
       "    <tr>\n",
       "      <th>2018-12-03</th>\n",
       "      <td>50.650002</td>\n",
       "      <td>50.119999</td>\n",
       "      <td>50.509998</td>\n",
       "      <td>50.639999</td>\n",
       "      <td>704100.0</td>\n",
       "      <td>41.531578</td>\n",
       "    </tr>\n",
       "    <tr>\n",
       "      <th>2018-12-04</th>\n",
       "      <td>50.880001</td>\n",
       "      <td>49.500000</td>\n",
       "      <td>50.639999</td>\n",
       "      <td>49.570000</td>\n",
       "      <td>1916300.0</td>\n",
       "      <td>40.654026</td>\n",
       "    </tr>\n",
       "  </tbody>\n",
       "</table>\n",
       "</div>"
      ],
      "text/plain": [
       "                 High        Low       Open      Close     Volume  Adj Close\n",
       "Date                                                                        \n",
       "2018-12-03  50.650002  50.119999  50.509998  50.639999   704100.0  41.531578\n",
       "2018-12-04  50.880001  49.500000  50.639999  49.570000  1916300.0  40.654026"
      ]
     },
     "execution_count": 5,
     "metadata": {},
     "output_type": "execute_result"
    }
   ],
   "source": [
    "MAC.head(2)"
   ]
  },
  {
   "cell_type": "code",
   "execution_count": 6,
   "metadata": {},
   "outputs": [
    {
     "name": "stdout",
     "output_type": "stream",
     "text": [
      "<class 'pandas.core.frame.DataFrame'>\n",
      "DatetimeIndex: 612 entries, 2018-12-03 to 2021-05-10\n",
      "Data columns (total 6 columns):\n",
      " #   Column     Non-Null Count  Dtype  \n",
      "---  ------     --------------  -----  \n",
      " 0   High       612 non-null    float64\n",
      " 1   Low        612 non-null    float64\n",
      " 2   Open       612 non-null    float64\n",
      " 3   Close      612 non-null    float64\n",
      " 4   Volume     612 non-null    float64\n",
      " 5   Adj Close  612 non-null    float64\n",
      "dtypes: float64(6)\n",
      "memory usage: 33.5 KB\n"
     ]
    }
   ],
   "source": [
    "# check null entries\n",
    "MAC.info()"
   ]
  },
  {
   "cell_type": "code",
   "execution_count": 7,
   "metadata": {},
   "outputs": [
    {
     "data": {
      "text/html": [
       "<div>\n",
       "<style scoped>\n",
       "    .dataframe tbody tr th:only-of-type {\n",
       "        vertical-align: middle;\n",
       "    }\n",
       "\n",
       "    .dataframe tbody tr th {\n",
       "        vertical-align: top;\n",
       "    }\n",
       "\n",
       "    .dataframe thead th {\n",
       "        text-align: right;\n",
       "    }\n",
       "</style>\n",
       "<table border=\"1\" class=\"dataframe\">\n",
       "  <thead>\n",
       "    <tr style=\"text-align: right;\">\n",
       "      <th></th>\n",
       "      <th>High</th>\n",
       "      <th>Low</th>\n",
       "      <th>Open</th>\n",
       "      <th>Close</th>\n",
       "      <th>Volume</th>\n",
       "      <th>Adj Close</th>\n",
       "    </tr>\n",
       "    <tr>\n",
       "      <th>Date</th>\n",
       "      <th></th>\n",
       "      <th></th>\n",
       "      <th></th>\n",
       "      <th></th>\n",
       "      <th></th>\n",
       "      <th></th>\n",
       "    </tr>\n",
       "  </thead>\n",
       "  <tbody>\n",
       "    <tr>\n",
       "      <th>2018-12-03</th>\n",
       "      <td>152.919998</td>\n",
       "      <td>144.220001</td>\n",
       "      <td>144.220001</td>\n",
       "      <td>152.649994</td>\n",
       "      <td>5296600.0</td>\n",
       "      <td>149.826050</td>\n",
       "    </tr>\n",
       "    <tr>\n",
       "      <th>2018-12-04</th>\n",
       "      <td>152.000000</td>\n",
       "      <td>144.059998</td>\n",
       "      <td>152.000000</td>\n",
       "      <td>144.089996</td>\n",
       "      <td>3101800.0</td>\n",
       "      <td>141.424423</td>\n",
       "    </tr>\n",
       "  </tbody>\n",
       "</table>\n",
       "</div>"
      ],
      "text/plain": [
       "                  High         Low        Open       Close     Volume  \\\n",
       "Date                                                                    \n",
       "2018-12-03  152.919998  144.220001  144.220001  152.649994  5296600.0   \n",
       "2018-12-04  152.000000  144.059998  152.000000  144.089996  3101800.0   \n",
       "\n",
       "             Adj Close  \n",
       "Date                    \n",
       "2018-12-03  149.826050  \n",
       "2018-12-04  141.424423  "
      ]
     },
     "execution_count": 7,
     "metadata": {},
     "output_type": "execute_result"
    }
   ],
   "source": [
    "EL.head(2)"
   ]
  },
  {
   "cell_type": "code",
   "execution_count": 8,
   "metadata": {},
   "outputs": [
    {
     "name": "stdout",
     "output_type": "stream",
     "text": [
      "<class 'pandas.core.frame.DataFrame'>\n",
      "DatetimeIndex: 612 entries, 2018-12-03 to 2021-05-10\n",
      "Data columns (total 6 columns):\n",
      " #   Column     Non-Null Count  Dtype  \n",
      "---  ------     --------------  -----  \n",
      " 0   High       612 non-null    float64\n",
      " 1   Low        612 non-null    float64\n",
      " 2   Open       612 non-null    float64\n",
      " 3   Close      612 non-null    float64\n",
      " 4   Volume     612 non-null    float64\n",
      " 5   Adj Close  612 non-null    float64\n",
      "dtypes: float64(6)\n",
      "memory usage: 33.5 KB\n"
     ]
    }
   ],
   "source": [
    "# check null entries\n",
    "EL.info()"
   ]
  },
  {
   "cell_type": "code",
   "execution_count": 9,
   "metadata": {},
   "outputs": [
    {
     "data": {
      "text/html": [
       "<div>\n",
       "<style scoped>\n",
       "    .dataframe tbody tr th:only-of-type {\n",
       "        vertical-align: middle;\n",
       "    }\n",
       "\n",
       "    .dataframe tbody tr th {\n",
       "        vertical-align: top;\n",
       "    }\n",
       "\n",
       "    .dataframe thead th {\n",
       "        text-align: right;\n",
       "    }\n",
       "</style>\n",
       "<table border=\"1\" class=\"dataframe\">\n",
       "  <thead>\n",
       "    <tr style=\"text-align: right;\">\n",
       "      <th></th>\n",
       "      <th>High</th>\n",
       "      <th>Low</th>\n",
       "      <th>Open</th>\n",
       "      <th>Close</th>\n",
       "      <th>Volume</th>\n",
       "      <th>Adj Close</th>\n",
       "    </tr>\n",
       "    <tr>\n",
       "      <th>Date</th>\n",
       "      <th></th>\n",
       "      <th></th>\n",
       "      <th></th>\n",
       "      <th></th>\n",
       "      <th></th>\n",
       "      <th></th>\n",
       "    </tr>\n",
       "  </thead>\n",
       "  <tbody>\n",
       "    <tr>\n",
       "      <th>2018-12-03</th>\n",
       "      <td>311.299988</td>\n",
       "      <td>302.470001</td>\n",
       "      <td>303.880005</td>\n",
       "      <td>306.489990</td>\n",
       "      <td>1384300</td>\n",
       "      <td>306.489990</td>\n",
       "    </tr>\n",
       "    <tr>\n",
       "      <th>2018-12-04</th>\n",
       "      <td>308.399994</td>\n",
       "      <td>289.209991</td>\n",
       "      <td>304.779999</td>\n",
       "      <td>291.130005</td>\n",
       "      <td>1653500</td>\n",
       "      <td>291.130005</td>\n",
       "    </tr>\n",
       "  </tbody>\n",
       "</table>\n",
       "</div>"
      ],
      "text/plain": [
       "                  High         Low        Open       Close   Volume  \\\n",
       "Date                                                                  \n",
       "2018-12-03  311.299988  302.470001  303.880005  306.489990  1384300   \n",
       "2018-12-04  308.399994  289.209991  304.779999  291.130005  1653500   \n",
       "\n",
       "             Adj Close  \n",
       "Date                    \n",
       "2018-12-03  306.489990  \n",
       "2018-12-04  291.130005  "
      ]
     },
     "execution_count": 9,
     "metadata": {},
     "output_type": "execute_result"
    }
   ],
   "source": [
    "ULTA.head(2)"
   ]
  },
  {
   "cell_type": "code",
   "execution_count": 10,
   "metadata": {},
   "outputs": [
    {
     "name": "stdout",
     "output_type": "stream",
     "text": [
      "<class 'pandas.core.frame.DataFrame'>\n",
      "DatetimeIndex: 612 entries, 2018-12-03 to 2021-05-10\n",
      "Data columns (total 6 columns):\n",
      " #   Column     Non-Null Count  Dtype  \n",
      "---  ------     --------------  -----  \n",
      " 0   High       612 non-null    float64\n",
      " 1   Low        612 non-null    float64\n",
      " 2   Open       612 non-null    float64\n",
      " 3   Close      612 non-null    float64\n",
      " 4   Volume     612 non-null    int64  \n",
      " 5   Adj Close  612 non-null    float64\n",
      "dtypes: float64(5), int64(1)\n",
      "memory usage: 33.5 KB\n"
     ]
    }
   ],
   "source": [
    "# check null entries\n",
    "ULTA.info()"
   ]
  },
  {
   "cell_type": "code",
   "execution_count": 11,
   "metadata": {},
   "outputs": [
    {
     "data": {
      "text/html": [
       "<div>\n",
       "<style scoped>\n",
       "    .dataframe tbody tr th:only-of-type {\n",
       "        vertical-align: middle;\n",
       "    }\n",
       "\n",
       "    .dataframe tbody tr th {\n",
       "        vertical-align: top;\n",
       "    }\n",
       "\n",
       "    .dataframe thead th {\n",
       "        text-align: right;\n",
       "    }\n",
       "</style>\n",
       "<table border=\"1\" class=\"dataframe\">\n",
       "  <thead>\n",
       "    <tr style=\"text-align: right;\">\n",
       "      <th></th>\n",
       "      <th>High</th>\n",
       "      <th>Low</th>\n",
       "      <th>Open</th>\n",
       "      <th>Close</th>\n",
       "      <th>Volume</th>\n",
       "      <th>Adj Close</th>\n",
       "    </tr>\n",
       "    <tr>\n",
       "      <th>Date</th>\n",
       "      <th></th>\n",
       "      <th></th>\n",
       "      <th></th>\n",
       "      <th></th>\n",
       "      <th></th>\n",
       "      <th></th>\n",
       "    </tr>\n",
       "  </thead>\n",
       "  <tbody>\n",
       "    <tr>\n",
       "      <th>2018-12-03</th>\n",
       "      <td>12.90</td>\n",
       "      <td>12.22</td>\n",
       "      <td>12.89</td>\n",
       "      <td>12.48</td>\n",
       "      <td>417800</td>\n",
       "      <td>12.48</td>\n",
       "    </tr>\n",
       "    <tr>\n",
       "      <th>2018-12-04</th>\n",
       "      <td>12.52</td>\n",
       "      <td>11.61</td>\n",
       "      <td>12.52</td>\n",
       "      <td>11.63</td>\n",
       "      <td>355800</td>\n",
       "      <td>11.63</td>\n",
       "    </tr>\n",
       "  </tbody>\n",
       "</table>\n",
       "</div>"
      ],
      "text/plain": [
       "             High    Low   Open  Close  Volume  Adj Close\n",
       "Date                                                     \n",
       "2018-12-03  12.90  12.22  12.89  12.48  417800      12.48\n",
       "2018-12-04  12.52  11.61  12.52  11.63  355800      11.63"
      ]
     },
     "execution_count": 11,
     "metadata": {},
     "output_type": "execute_result"
    }
   ],
   "source": [
    "ELF.head(2)"
   ]
  },
  {
   "cell_type": "code",
   "execution_count": 12,
   "metadata": {},
   "outputs": [
    {
     "name": "stdout",
     "output_type": "stream",
     "text": [
      "<class 'pandas.core.frame.DataFrame'>\n",
      "DatetimeIndex: 612 entries, 2018-12-03 to 2021-05-10\n",
      "Data columns (total 6 columns):\n",
      " #   Column     Non-Null Count  Dtype  \n",
      "---  ------     --------------  -----  \n",
      " 0   High       612 non-null    float64\n",
      " 1   Low        612 non-null    float64\n",
      " 2   Open       612 non-null    float64\n",
      " 3   Close      612 non-null    float64\n",
      " 4   Volume     612 non-null    int64  \n",
      " 5   Adj Close  612 non-null    float64\n",
      "dtypes: float64(5), int64(1)\n",
      "memory usage: 33.5 KB\n"
     ]
    }
   ],
   "source": [
    "# check null entries\n",
    "ELF.info()"
   ]
  },
  {
   "cell_type": "code",
   "execution_count": 13,
   "metadata": {
    "scrolled": true
   },
   "outputs": [
    {
     "data": {
      "text/html": [
       "<div>\n",
       "<style scoped>\n",
       "    .dataframe tbody tr th:only-of-type {\n",
       "        vertical-align: middle;\n",
       "    }\n",
       "\n",
       "    .dataframe tbody tr th {\n",
       "        vertical-align: top;\n",
       "    }\n",
       "\n",
       "    .dataframe thead th {\n",
       "        text-align: right;\n",
       "    }\n",
       "</style>\n",
       "<table border=\"1\" class=\"dataframe\">\n",
       "  <thead>\n",
       "    <tr style=\"text-align: right;\">\n",
       "      <th></th>\n",
       "      <th>High</th>\n",
       "      <th>Low</th>\n",
       "      <th>Open</th>\n",
       "      <th>Close</th>\n",
       "      <th>Volume</th>\n",
       "      <th>Adj Close</th>\n",
       "    </tr>\n",
       "    <tr>\n",
       "      <th>Date</th>\n",
       "      <th></th>\n",
       "      <th></th>\n",
       "      <th></th>\n",
       "      <th></th>\n",
       "      <th></th>\n",
       "      <th></th>\n",
       "    </tr>\n",
       "  </thead>\n",
       "  <tbody>\n",
       "    <tr>\n",
       "      <th>2018-12-03</th>\n",
       "      <td>25.540001</td>\n",
       "      <td>24.17</td>\n",
       "      <td>25.059999</td>\n",
       "      <td>25.139999</td>\n",
       "      <td>112900</td>\n",
       "      <td>25.139999</td>\n",
       "    </tr>\n",
       "    <tr>\n",
       "      <th>2018-12-04</th>\n",
       "      <td>25.200001</td>\n",
       "      <td>22.42</td>\n",
       "      <td>25.190001</td>\n",
       "      <td>22.860001</td>\n",
       "      <td>229800</td>\n",
       "      <td>22.860001</td>\n",
       "    </tr>\n",
       "  </tbody>\n",
       "</table>\n",
       "</div>"
      ],
      "text/plain": [
       "                 High    Low       Open      Close  Volume  Adj Close\n",
       "Date                                                                 \n",
       "2018-12-03  25.540001  24.17  25.059999  25.139999  112900  25.139999\n",
       "2018-12-04  25.200001  22.42  25.190001  22.860001  229800  22.860001"
      ]
     },
     "execution_count": 13,
     "metadata": {},
     "output_type": "execute_result"
    }
   ],
   "source": [
    "REV.head(2)"
   ]
  },
  {
   "cell_type": "code",
   "execution_count": 14,
   "metadata": {},
   "outputs": [
    {
     "name": "stdout",
     "output_type": "stream",
     "text": [
      "<class 'pandas.core.frame.DataFrame'>\n",
      "DatetimeIndex: 612 entries, 2018-12-03 to 2021-05-10\n",
      "Data columns (total 6 columns):\n",
      " #   Column     Non-Null Count  Dtype  \n",
      "---  ------     --------------  -----  \n",
      " 0   High       612 non-null    float64\n",
      " 1   Low        612 non-null    float64\n",
      " 2   Open       612 non-null    float64\n",
      " 3   Close      612 non-null    float64\n",
      " 4   Volume     612 non-null    int64  \n",
      " 5   Adj Close  612 non-null    float64\n",
      "dtypes: float64(5), int64(1)\n",
      "memory usage: 33.5 KB\n"
     ]
    }
   ],
   "source": [
    "# check null entries\n",
    "REV.info()"
   ]
  },
  {
   "cell_type": "markdown",
   "metadata": {},
   "source": [
    "### **Conclusion:** No null entries in any of the extracted dataframes "
   ]
  },
  {
   "cell_type": "markdown",
   "metadata": {},
   "source": [
    "## Add the company, lockdown and return columns for individual dataframes"
   ]
  },
  {
   "cell_type": "markdown",
   "metadata": {},
   "source": [
    "### Add company column for each dataframe"
   ]
  },
  {
   "cell_type": "code",
   "execution_count": 15,
   "metadata": {},
   "outputs": [],
   "source": [
    "company_dataframes = [MAC, EL, ULTA, ELF, REV]\n",
    "company_names = ['MAC', 'EL', 'ULTA', 'ELF', 'REV']\n",
    "\n",
    "for company_dataframe, company_name in zip(company_dataframes, company_names):\n",
    "    company_dataframe[\"Company\"] = company_name"
   ]
  },
  {
   "cell_type": "markdown",
   "metadata": {},
   "source": [
    "### Adding return column for each dataframe\n",
    "Create a new column 'Return' that will contain the returns for each company's stock. Return is typically defined by:\n",
    "\n",
    "$$r_t = \\frac{p_t - p_{t-1}}{p_{t-1}} = \\frac{p_t}{p_{t-1}} - 1$$\n"
   ]
  },
  {
   "cell_type": "code",
   "execution_count": 16,
   "metadata": {},
   "outputs": [],
   "source": [
    "for company_dataframe in company_dataframes:\n",
    "    company_dataframe[\"Return\"] = company_dataframe['Close'].pct_change()\n",
    "    # dropping the first null entry in the return column\n",
    "    company_dataframe.dropna(axis=0, inplace=True)"
   ]
  },
  {
   "cell_type": "markdown",
   "metadata": {},
   "source": [
    "### Check the newly added columns in one dataframe"
   ]
  },
  {
   "cell_type": "code",
   "execution_count": 17,
   "metadata": {},
   "outputs": [
    {
     "data": {
      "text/html": [
       "<div>\n",
       "<style scoped>\n",
       "    .dataframe tbody tr th:only-of-type {\n",
       "        vertical-align: middle;\n",
       "    }\n",
       "\n",
       "    .dataframe tbody tr th {\n",
       "        vertical-align: top;\n",
       "    }\n",
       "\n",
       "    .dataframe thead th {\n",
       "        text-align: right;\n",
       "    }\n",
       "</style>\n",
       "<table border=\"1\" class=\"dataframe\">\n",
       "  <thead>\n",
       "    <tr style=\"text-align: right;\">\n",
       "      <th></th>\n",
       "      <th>High</th>\n",
       "      <th>Low</th>\n",
       "      <th>Open</th>\n",
       "      <th>Close</th>\n",
       "      <th>Volume</th>\n",
       "      <th>Adj Close</th>\n",
       "      <th>Company</th>\n",
       "      <th>Return</th>\n",
       "    </tr>\n",
       "    <tr>\n",
       "      <th>Date</th>\n",
       "      <th></th>\n",
       "      <th></th>\n",
       "      <th></th>\n",
       "      <th></th>\n",
       "      <th></th>\n",
       "      <th></th>\n",
       "      <th></th>\n",
       "      <th></th>\n",
       "    </tr>\n",
       "  </thead>\n",
       "  <tbody>\n",
       "    <tr>\n",
       "      <th>2018-12-04</th>\n",
       "      <td>50.880001</td>\n",
       "      <td>49.500000</td>\n",
       "      <td>50.639999</td>\n",
       "      <td>49.570000</td>\n",
       "      <td>1916300.0</td>\n",
       "      <td>40.654026</td>\n",
       "      <td>MAC</td>\n",
       "      <td>-0.021130</td>\n",
       "    </tr>\n",
       "    <tr>\n",
       "      <th>2018-12-06</th>\n",
       "      <td>50.980000</td>\n",
       "      <td>48.590000</td>\n",
       "      <td>49.299999</td>\n",
       "      <td>50.919998</td>\n",
       "      <td>2659500.0</td>\n",
       "      <td>41.761208</td>\n",
       "      <td>MAC</td>\n",
       "      <td>0.027234</td>\n",
       "    </tr>\n",
       "    <tr>\n",
       "      <th>2018-12-07</th>\n",
       "      <td>51.080002</td>\n",
       "      <td>50.330002</td>\n",
       "      <td>50.740002</td>\n",
       "      <td>50.639999</td>\n",
       "      <td>1152800.0</td>\n",
       "      <td>41.531578</td>\n",
       "      <td>MAC</td>\n",
       "      <td>-0.005499</td>\n",
       "    </tr>\n",
       "    <tr>\n",
       "      <th>2018-12-10</th>\n",
       "      <td>50.689999</td>\n",
       "      <td>49.509998</td>\n",
       "      <td>50.650002</td>\n",
       "      <td>50.040001</td>\n",
       "      <td>798400.0</td>\n",
       "      <td>41.039497</td>\n",
       "      <td>MAC</td>\n",
       "      <td>-0.011848</td>\n",
       "    </tr>\n",
       "    <tr>\n",
       "      <th>2018-12-11</th>\n",
       "      <td>50.750000</td>\n",
       "      <td>49.270000</td>\n",
       "      <td>50.169998</td>\n",
       "      <td>49.320000</td>\n",
       "      <td>1556700.0</td>\n",
       "      <td>40.448997</td>\n",
       "      <td>MAC</td>\n",
       "      <td>-0.014389</td>\n",
       "    </tr>\n",
       "  </tbody>\n",
       "</table>\n",
       "</div>"
      ],
      "text/plain": [
       "                 High        Low       Open      Close     Volume  Adj Close  \\\n",
       "Date                                                                           \n",
       "2018-12-04  50.880001  49.500000  50.639999  49.570000  1916300.0  40.654026   \n",
       "2018-12-06  50.980000  48.590000  49.299999  50.919998  2659500.0  41.761208   \n",
       "2018-12-07  51.080002  50.330002  50.740002  50.639999  1152800.0  41.531578   \n",
       "2018-12-10  50.689999  49.509998  50.650002  50.040001   798400.0  41.039497   \n",
       "2018-12-11  50.750000  49.270000  50.169998  49.320000  1556700.0  40.448997   \n",
       "\n",
       "           Company    Return  \n",
       "Date                          \n",
       "2018-12-04     MAC -0.021130  \n",
       "2018-12-06     MAC  0.027234  \n",
       "2018-12-07     MAC -0.005499  \n",
       "2018-12-10     MAC -0.011848  \n",
       "2018-12-11     MAC -0.014389  "
      ]
     },
     "execution_count": 17,
     "metadata": {},
     "output_type": "execute_result"
    }
   ],
   "source": [
    "MAC.head()"
   ]
  },
  {
   "cell_type": "markdown",
   "metadata": {},
   "source": [
    "### Concatenate all dataframes "
   ]
  },
  {
   "cell_type": "code",
   "execution_count": 18,
   "metadata": {},
   "outputs": [],
   "source": [
    "stock_data = pd.concat(company_dataframes, axis=0) # along row"
   ]
  },
  {
   "cell_type": "markdown",
   "metadata": {},
   "source": [
    "### Disaply Concatenated Dataframe"
   ]
  },
  {
   "cell_type": "code",
   "execution_count": 19,
   "metadata": {},
   "outputs": [
    {
     "data": {
      "text/html": [
       "<div>\n",
       "<style scoped>\n",
       "    .dataframe tbody tr th:only-of-type {\n",
       "        vertical-align: middle;\n",
       "    }\n",
       "\n",
       "    .dataframe tbody tr th {\n",
       "        vertical-align: top;\n",
       "    }\n",
       "\n",
       "    .dataframe thead th {\n",
       "        text-align: right;\n",
       "    }\n",
       "</style>\n",
       "<table border=\"1\" class=\"dataframe\">\n",
       "  <thead>\n",
       "    <tr style=\"text-align: right;\">\n",
       "      <th></th>\n",
       "      <th>High</th>\n",
       "      <th>Low</th>\n",
       "      <th>Open</th>\n",
       "      <th>Close</th>\n",
       "      <th>Volume</th>\n",
       "      <th>Adj Close</th>\n",
       "      <th>Company</th>\n",
       "      <th>Return</th>\n",
       "    </tr>\n",
       "    <tr>\n",
       "      <th>Date</th>\n",
       "      <th></th>\n",
       "      <th></th>\n",
       "      <th></th>\n",
       "      <th></th>\n",
       "      <th></th>\n",
       "      <th></th>\n",
       "      <th></th>\n",
       "      <th></th>\n",
       "    </tr>\n",
       "  </thead>\n",
       "  <tbody>\n",
       "    <tr>\n",
       "      <th>2018-12-04</th>\n",
       "      <td>50.880001</td>\n",
       "      <td>49.500000</td>\n",
       "      <td>50.639999</td>\n",
       "      <td>49.570000</td>\n",
       "      <td>1916300.0</td>\n",
       "      <td>40.654026</td>\n",
       "      <td>MAC</td>\n",
       "      <td>-0.021130</td>\n",
       "    </tr>\n",
       "    <tr>\n",
       "      <th>2018-12-06</th>\n",
       "      <td>50.980000</td>\n",
       "      <td>48.590000</td>\n",
       "      <td>49.299999</td>\n",
       "      <td>50.919998</td>\n",
       "      <td>2659500.0</td>\n",
       "      <td>41.761208</td>\n",
       "      <td>MAC</td>\n",
       "      <td>0.027234</td>\n",
       "    </tr>\n",
       "    <tr>\n",
       "      <th>2018-12-07</th>\n",
       "      <td>51.080002</td>\n",
       "      <td>50.330002</td>\n",
       "      <td>50.740002</td>\n",
       "      <td>50.639999</td>\n",
       "      <td>1152800.0</td>\n",
       "      <td>41.531578</td>\n",
       "      <td>MAC</td>\n",
       "      <td>-0.005499</td>\n",
       "    </tr>\n",
       "    <tr>\n",
       "      <th>2018-12-10</th>\n",
       "      <td>50.689999</td>\n",
       "      <td>49.509998</td>\n",
       "      <td>50.650002</td>\n",
       "      <td>50.040001</td>\n",
       "      <td>798400.0</td>\n",
       "      <td>41.039497</td>\n",
       "      <td>MAC</td>\n",
       "      <td>-0.011848</td>\n",
       "    </tr>\n",
       "    <tr>\n",
       "      <th>2018-12-11</th>\n",
       "      <td>50.750000</td>\n",
       "      <td>49.270000</td>\n",
       "      <td>50.169998</td>\n",
       "      <td>49.320000</td>\n",
       "      <td>1556700.0</td>\n",
       "      <td>40.448997</td>\n",
       "      <td>MAC</td>\n",
       "      <td>-0.014389</td>\n",
       "    </tr>\n",
       "  </tbody>\n",
       "</table>\n",
       "</div>"
      ],
      "text/plain": [
       "                 High        Low       Open      Close     Volume  Adj Close  \\\n",
       "Date                                                                           \n",
       "2018-12-04  50.880001  49.500000  50.639999  49.570000  1916300.0  40.654026   \n",
       "2018-12-06  50.980000  48.590000  49.299999  50.919998  2659500.0  41.761208   \n",
       "2018-12-07  51.080002  50.330002  50.740002  50.639999  1152800.0  41.531578   \n",
       "2018-12-10  50.689999  49.509998  50.650002  50.040001   798400.0  41.039497   \n",
       "2018-12-11  50.750000  49.270000  50.169998  49.320000  1556700.0  40.448997   \n",
       "\n",
       "           Company    Return  \n",
       "Date                          \n",
       "2018-12-04     MAC -0.021130  \n",
       "2018-12-06     MAC  0.027234  \n",
       "2018-12-07     MAC -0.005499  \n",
       "2018-12-10     MAC -0.011848  \n",
       "2018-12-11     MAC -0.014389  "
      ]
     },
     "execution_count": 19,
     "metadata": {},
     "output_type": "execute_result"
    }
   ],
   "source": [
    "stock_data.head()"
   ]
  },
  {
   "cell_type": "code",
   "execution_count": 20,
   "metadata": {},
   "outputs": [
    {
     "data": {
      "text/html": [
       "<div>\n",
       "<style scoped>\n",
       "    .dataframe tbody tr th:only-of-type {\n",
       "        vertical-align: middle;\n",
       "    }\n",
       "\n",
       "    .dataframe tbody tr th {\n",
       "        vertical-align: top;\n",
       "    }\n",
       "\n",
       "    .dataframe thead th {\n",
       "        text-align: right;\n",
       "    }\n",
       "</style>\n",
       "<table border=\"1\" class=\"dataframe\">\n",
       "  <thead>\n",
       "    <tr style=\"text-align: right;\">\n",
       "      <th></th>\n",
       "      <th>High</th>\n",
       "      <th>Low</th>\n",
       "      <th>Open</th>\n",
       "      <th>Close</th>\n",
       "      <th>Volume</th>\n",
       "      <th>Adj Close</th>\n",
       "      <th>Company</th>\n",
       "      <th>Return</th>\n",
       "    </tr>\n",
       "    <tr>\n",
       "      <th>Date</th>\n",
       "      <th></th>\n",
       "      <th></th>\n",
       "      <th></th>\n",
       "      <th></th>\n",
       "      <th></th>\n",
       "      <th></th>\n",
       "      <th></th>\n",
       "      <th></th>\n",
       "    </tr>\n",
       "  </thead>\n",
       "  <tbody>\n",
       "    <tr>\n",
       "      <th>2021-05-04</th>\n",
       "      <td>11.27</td>\n",
       "      <td>10.77</td>\n",
       "      <td>11.23</td>\n",
       "      <td>10.88</td>\n",
       "      <td>218000.0</td>\n",
       "      <td>10.88</td>\n",
       "      <td>REV</td>\n",
       "      <td>-0.026834</td>\n",
       "    </tr>\n",
       "    <tr>\n",
       "      <th>2021-05-05</th>\n",
       "      <td>11.50</td>\n",
       "      <td>10.89</td>\n",
       "      <td>10.89</td>\n",
       "      <td>11.21</td>\n",
       "      <td>85200.0</td>\n",
       "      <td>11.21</td>\n",
       "      <td>REV</td>\n",
       "      <td>0.030331</td>\n",
       "    </tr>\n",
       "    <tr>\n",
       "      <th>2021-05-06</th>\n",
       "      <td>11.43</td>\n",
       "      <td>10.80</td>\n",
       "      <td>11.09</td>\n",
       "      <td>11.38</td>\n",
       "      <td>129700.0</td>\n",
       "      <td>11.38</td>\n",
       "      <td>REV</td>\n",
       "      <td>0.015165</td>\n",
       "    </tr>\n",
       "    <tr>\n",
       "      <th>2021-05-07</th>\n",
       "      <td>11.68</td>\n",
       "      <td>11.12</td>\n",
       "      <td>11.29</td>\n",
       "      <td>11.17</td>\n",
       "      <td>162300.0</td>\n",
       "      <td>11.17</td>\n",
       "      <td>REV</td>\n",
       "      <td>-0.018453</td>\n",
       "    </tr>\n",
       "    <tr>\n",
       "      <th>2021-05-10</th>\n",
       "      <td>10.76</td>\n",
       "      <td>10.00</td>\n",
       "      <td>10.52</td>\n",
       "      <td>10.18</td>\n",
       "      <td>448500.0</td>\n",
       "      <td>10.18</td>\n",
       "      <td>REV</td>\n",
       "      <td>-0.088630</td>\n",
       "    </tr>\n",
       "  </tbody>\n",
       "</table>\n",
       "</div>"
      ],
      "text/plain": [
       "             High    Low   Open  Close    Volume  Adj Close Company    Return\n",
       "Date                                                                         \n",
       "2021-05-04  11.27  10.77  11.23  10.88  218000.0      10.88     REV -0.026834\n",
       "2021-05-05  11.50  10.89  10.89  11.21   85200.0      11.21     REV  0.030331\n",
       "2021-05-06  11.43  10.80  11.09  11.38  129700.0      11.38     REV  0.015165\n",
       "2021-05-07  11.68  11.12  11.29  11.17  162300.0      11.17     REV -0.018453\n",
       "2021-05-10  10.76  10.00  10.52  10.18  448500.0      10.18     REV -0.088630"
      ]
     },
     "execution_count": 20,
     "metadata": {},
     "output_type": "execute_result"
    }
   ],
   "source": [
    "stock_data.tail()"
   ]
  },
  {
   "cell_type": "markdown",
   "metadata": {},
   "source": [
    "### Add Lockdown column\n",
    "\n",
    "Assuming the lockdown has been started in `1st March, 2020`, the new `Lockdown` column will contain the values respectively, that is, if the date is greater than or equals to the pandemic start date, use 1, otherwise 0."
   ]
  },
  {
   "cell_type": "code",
   "execution_count": 21,
   "metadata": {},
   "outputs": [],
   "source": [
    "def is_lockdown(date):\n",
    "    start_pandemic_date = datetime(2020, 3, 1)\n",
    "    if date >= start_pandemic_date:\n",
    "        return 1\n",
    "    return 0\n",
    "\n",
    "stock_data['Lockdown'] = stock_data.index\n",
    "stock_data['Lockdown'] = stock_data['Lockdown'].apply(is_lockdown)"
   ]
  },
  {
   "cell_type": "markdown",
   "metadata": {},
   "source": [
    "### Display the dataframe's head if the new Lockdown column is added properly"
   ]
  },
  {
   "cell_type": "code",
   "execution_count": 22,
   "metadata": {},
   "outputs": [
    {
     "data": {
      "text/html": [
       "<div>\n",
       "<style scoped>\n",
       "    .dataframe tbody tr th:only-of-type {\n",
       "        vertical-align: middle;\n",
       "    }\n",
       "\n",
       "    .dataframe tbody tr th {\n",
       "        vertical-align: top;\n",
       "    }\n",
       "\n",
       "    .dataframe thead th {\n",
       "        text-align: right;\n",
       "    }\n",
       "</style>\n",
       "<table border=\"1\" class=\"dataframe\">\n",
       "  <thead>\n",
       "    <tr style=\"text-align: right;\">\n",
       "      <th></th>\n",
       "      <th>High</th>\n",
       "      <th>Low</th>\n",
       "      <th>Open</th>\n",
       "      <th>Close</th>\n",
       "      <th>Volume</th>\n",
       "      <th>Adj Close</th>\n",
       "      <th>Company</th>\n",
       "      <th>Return</th>\n",
       "      <th>Lockdown</th>\n",
       "    </tr>\n",
       "    <tr>\n",
       "      <th>Date</th>\n",
       "      <th></th>\n",
       "      <th></th>\n",
       "      <th></th>\n",
       "      <th></th>\n",
       "      <th></th>\n",
       "      <th></th>\n",
       "      <th></th>\n",
       "      <th></th>\n",
       "      <th></th>\n",
       "    </tr>\n",
       "  </thead>\n",
       "  <tbody>\n",
       "    <tr>\n",
       "      <th>2018-12-04</th>\n",
       "      <td>50.880001</td>\n",
       "      <td>49.500000</td>\n",
       "      <td>50.639999</td>\n",
       "      <td>49.570000</td>\n",
       "      <td>1916300.0</td>\n",
       "      <td>40.654026</td>\n",
       "      <td>MAC</td>\n",
       "      <td>-0.021130</td>\n",
       "      <td>0</td>\n",
       "    </tr>\n",
       "    <tr>\n",
       "      <th>2018-12-06</th>\n",
       "      <td>50.980000</td>\n",
       "      <td>48.590000</td>\n",
       "      <td>49.299999</td>\n",
       "      <td>50.919998</td>\n",
       "      <td>2659500.0</td>\n",
       "      <td>41.761208</td>\n",
       "      <td>MAC</td>\n",
       "      <td>0.027234</td>\n",
       "      <td>0</td>\n",
       "    </tr>\n",
       "    <tr>\n",
       "      <th>2018-12-07</th>\n",
       "      <td>51.080002</td>\n",
       "      <td>50.330002</td>\n",
       "      <td>50.740002</td>\n",
       "      <td>50.639999</td>\n",
       "      <td>1152800.0</td>\n",
       "      <td>41.531578</td>\n",
       "      <td>MAC</td>\n",
       "      <td>-0.005499</td>\n",
       "      <td>0</td>\n",
       "    </tr>\n",
       "    <tr>\n",
       "      <th>2018-12-10</th>\n",
       "      <td>50.689999</td>\n",
       "      <td>49.509998</td>\n",
       "      <td>50.650002</td>\n",
       "      <td>50.040001</td>\n",
       "      <td>798400.0</td>\n",
       "      <td>41.039497</td>\n",
       "      <td>MAC</td>\n",
       "      <td>-0.011848</td>\n",
       "      <td>0</td>\n",
       "    </tr>\n",
       "    <tr>\n",
       "      <th>2018-12-11</th>\n",
       "      <td>50.750000</td>\n",
       "      <td>49.270000</td>\n",
       "      <td>50.169998</td>\n",
       "      <td>49.320000</td>\n",
       "      <td>1556700.0</td>\n",
       "      <td>40.448997</td>\n",
       "      <td>MAC</td>\n",
       "      <td>-0.014389</td>\n",
       "      <td>0</td>\n",
       "    </tr>\n",
       "  </tbody>\n",
       "</table>\n",
       "</div>"
      ],
      "text/plain": [
       "                 High        Low       Open      Close     Volume  Adj Close  \\\n",
       "Date                                                                           \n",
       "2018-12-04  50.880001  49.500000  50.639999  49.570000  1916300.0  40.654026   \n",
       "2018-12-06  50.980000  48.590000  49.299999  50.919998  2659500.0  41.761208   \n",
       "2018-12-07  51.080002  50.330002  50.740002  50.639999  1152800.0  41.531578   \n",
       "2018-12-10  50.689999  49.509998  50.650002  50.040001   798400.0  41.039497   \n",
       "2018-12-11  50.750000  49.270000  50.169998  49.320000  1556700.0  40.448997   \n",
       "\n",
       "           Company    Return  Lockdown  \n",
       "Date                                    \n",
       "2018-12-04     MAC -0.021130         0  \n",
       "2018-12-06     MAC  0.027234         0  \n",
       "2018-12-07     MAC -0.005499         0  \n",
       "2018-12-10     MAC -0.011848         0  \n",
       "2018-12-11     MAC -0.014389         0  "
      ]
     },
     "execution_count": 22,
     "metadata": {},
     "output_type": "execute_result"
    }
   ],
   "source": [
    "stock_data.head()"
   ]
  },
  {
   "cell_type": "markdown",
   "metadata": {},
   "source": [
    "### Display the dataframe's tail if the new Lockdown column is added properly"
   ]
  },
  {
   "cell_type": "code",
   "execution_count": 23,
   "metadata": {},
   "outputs": [
    {
     "data": {
      "text/html": [
       "<div>\n",
       "<style scoped>\n",
       "    .dataframe tbody tr th:only-of-type {\n",
       "        vertical-align: middle;\n",
       "    }\n",
       "\n",
       "    .dataframe tbody tr th {\n",
       "        vertical-align: top;\n",
       "    }\n",
       "\n",
       "    .dataframe thead th {\n",
       "        text-align: right;\n",
       "    }\n",
       "</style>\n",
       "<table border=\"1\" class=\"dataframe\">\n",
       "  <thead>\n",
       "    <tr style=\"text-align: right;\">\n",
       "      <th></th>\n",
       "      <th>High</th>\n",
       "      <th>Low</th>\n",
       "      <th>Open</th>\n",
       "      <th>Close</th>\n",
       "      <th>Volume</th>\n",
       "      <th>Adj Close</th>\n",
       "      <th>Company</th>\n",
       "      <th>Return</th>\n",
       "      <th>Lockdown</th>\n",
       "    </tr>\n",
       "    <tr>\n",
       "      <th>Date</th>\n",
       "      <th></th>\n",
       "      <th></th>\n",
       "      <th></th>\n",
       "      <th></th>\n",
       "      <th></th>\n",
       "      <th></th>\n",
       "      <th></th>\n",
       "      <th></th>\n",
       "      <th></th>\n",
       "    </tr>\n",
       "  </thead>\n",
       "  <tbody>\n",
       "    <tr>\n",
       "      <th>2021-05-04</th>\n",
       "      <td>11.27</td>\n",
       "      <td>10.77</td>\n",
       "      <td>11.23</td>\n",
       "      <td>10.88</td>\n",
       "      <td>218000.0</td>\n",
       "      <td>10.88</td>\n",
       "      <td>REV</td>\n",
       "      <td>-0.026834</td>\n",
       "      <td>1</td>\n",
       "    </tr>\n",
       "    <tr>\n",
       "      <th>2021-05-05</th>\n",
       "      <td>11.50</td>\n",
       "      <td>10.89</td>\n",
       "      <td>10.89</td>\n",
       "      <td>11.21</td>\n",
       "      <td>85200.0</td>\n",
       "      <td>11.21</td>\n",
       "      <td>REV</td>\n",
       "      <td>0.030331</td>\n",
       "      <td>1</td>\n",
       "    </tr>\n",
       "    <tr>\n",
       "      <th>2021-05-06</th>\n",
       "      <td>11.43</td>\n",
       "      <td>10.80</td>\n",
       "      <td>11.09</td>\n",
       "      <td>11.38</td>\n",
       "      <td>129700.0</td>\n",
       "      <td>11.38</td>\n",
       "      <td>REV</td>\n",
       "      <td>0.015165</td>\n",
       "      <td>1</td>\n",
       "    </tr>\n",
       "    <tr>\n",
       "      <th>2021-05-07</th>\n",
       "      <td>11.68</td>\n",
       "      <td>11.12</td>\n",
       "      <td>11.29</td>\n",
       "      <td>11.17</td>\n",
       "      <td>162300.0</td>\n",
       "      <td>11.17</td>\n",
       "      <td>REV</td>\n",
       "      <td>-0.018453</td>\n",
       "      <td>1</td>\n",
       "    </tr>\n",
       "    <tr>\n",
       "      <th>2021-05-10</th>\n",
       "      <td>10.76</td>\n",
       "      <td>10.00</td>\n",
       "      <td>10.52</td>\n",
       "      <td>10.18</td>\n",
       "      <td>448500.0</td>\n",
       "      <td>10.18</td>\n",
       "      <td>REV</td>\n",
       "      <td>-0.088630</td>\n",
       "      <td>1</td>\n",
       "    </tr>\n",
       "  </tbody>\n",
       "</table>\n",
       "</div>"
      ],
      "text/plain": [
       "             High    Low   Open  Close    Volume  Adj Close Company    Return  \\\n",
       "Date                                                                            \n",
       "2021-05-04  11.27  10.77  11.23  10.88  218000.0      10.88     REV -0.026834   \n",
       "2021-05-05  11.50  10.89  10.89  11.21   85200.0      11.21     REV  0.030331   \n",
       "2021-05-06  11.43  10.80  11.09  11.38  129700.0      11.38     REV  0.015165   \n",
       "2021-05-07  11.68  11.12  11.29  11.17  162300.0      11.17     REV -0.018453   \n",
       "2021-05-10  10.76  10.00  10.52  10.18  448500.0      10.18     REV -0.088630   \n",
       "\n",
       "            Lockdown  \n",
       "Date                  \n",
       "2021-05-04         1  \n",
       "2021-05-05         1  \n",
       "2021-05-06         1  \n",
       "2021-05-07         1  \n",
       "2021-05-10         1  "
      ]
     },
     "execution_count": 23,
     "metadata": {},
     "output_type": "execute_result"
    }
   ],
   "source": [
    "stock_data.tail()"
   ]
  },
  {
   "cell_type": "markdown",
   "metadata": {},
   "source": [
    "### Display the statistics of the dataframe"
   ]
  },
  {
   "cell_type": "code",
   "execution_count": 24,
   "metadata": {},
   "outputs": [
    {
     "data": {
      "text/html": [
       "<div>\n",
       "<style scoped>\n",
       "    .dataframe tbody tr th:only-of-type {\n",
       "        vertical-align: middle;\n",
       "    }\n",
       "\n",
       "    .dataframe tbody tr th {\n",
       "        vertical-align: top;\n",
       "    }\n",
       "\n",
       "    .dataframe thead th {\n",
       "        text-align: right;\n",
       "    }\n",
       "</style>\n",
       "<table border=\"1\" class=\"dataframe\">\n",
       "  <thead>\n",
       "    <tr style=\"text-align: right;\">\n",
       "      <th></th>\n",
       "      <th>Company</th>\n",
       "      <th>EL</th>\n",
       "      <th>ELF</th>\n",
       "      <th>MAC</th>\n",
       "      <th>REV</th>\n",
       "      <th>ULTA</th>\n",
       "    </tr>\n",
       "  </thead>\n",
       "  <tbody>\n",
       "    <tr>\n",
       "      <th rowspan=\"5\" valign=\"top\">High</th>\n",
       "      <th>count</th>\n",
       "      <td>611.000000</td>\n",
       "      <td>611.000000</td>\n",
       "      <td>611.000000</td>\n",
       "      <td>611.000000</td>\n",
       "      <td>611.000000</td>\n",
       "    </tr>\n",
       "    <tr>\n",
       "      <th>mean</th>\n",
       "      <td>204.334714</td>\n",
       "      <td>17.282403</td>\n",
       "      <td>22.963552</td>\n",
       "      <td>16.806481</td>\n",
       "      <td>277.014582</td>\n",
       "    </tr>\n",
       "    <tr>\n",
       "      <th>std</th>\n",
       "      <td>44.430903</td>\n",
       "      <td>5.551898</td>\n",
       "      <td>13.785082</td>\n",
       "      <td>6.641859</td>\n",
       "      <td>51.155826</td>\n",
       "    </tr>\n",
       "    <tr>\n",
       "      <th>min</th>\n",
       "      <td>125.360001</td>\n",
       "      <td>7.990000</td>\n",
       "      <td>5.200000</td>\n",
       "      <td>4.210000</td>\n",
       "      <td>149.059998</td>\n",
       "    </tr>\n",
       "    <tr>\n",
       "      <th>25%</th>\n",
       "      <td>172.855003</td>\n",
       "      <td>12.728000</td>\n",
       "      <td>9.365000</td>\n",
       "      <td>11.280000</td>\n",
       "      <td>237.040001</td>\n",
       "    </tr>\n",
       "    <tr>\n",
       "      <th>...</th>\n",
       "      <th>...</th>\n",
       "      <td>...</td>\n",
       "      <td>...</td>\n",
       "      <td>...</td>\n",
       "      <td>...</td>\n",
       "      <td>...</td>\n",
       "    </tr>\n",
       "    <tr>\n",
       "      <th rowspan=\"5\" valign=\"top\">Lockdown</th>\n",
       "      <th>min</th>\n",
       "      <td>0.000000</td>\n",
       "      <td>0.000000</td>\n",
       "      <td>0.000000</td>\n",
       "      <td>0.000000</td>\n",
       "      <td>0.000000</td>\n",
       "    </tr>\n",
       "    <tr>\n",
       "      <th>25%</th>\n",
       "      <td>0.000000</td>\n",
       "      <td>0.000000</td>\n",
       "      <td>0.000000</td>\n",
       "      <td>0.000000</td>\n",
       "      <td>0.000000</td>\n",
       "    </tr>\n",
       "    <tr>\n",
       "      <th>50%</th>\n",
       "      <td>0.000000</td>\n",
       "      <td>0.000000</td>\n",
       "      <td>0.000000</td>\n",
       "      <td>0.000000</td>\n",
       "      <td>0.000000</td>\n",
       "    </tr>\n",
       "    <tr>\n",
       "      <th>75%</th>\n",
       "      <td>1.000000</td>\n",
       "      <td>1.000000</td>\n",
       "      <td>1.000000</td>\n",
       "      <td>1.000000</td>\n",
       "      <td>1.000000</td>\n",
       "    </tr>\n",
       "    <tr>\n",
       "      <th>max</th>\n",
       "      <td>1.000000</td>\n",
       "      <td>1.000000</td>\n",
       "      <td>1.000000</td>\n",
       "      <td>1.000000</td>\n",
       "      <td>1.000000</td>\n",
       "    </tr>\n",
       "  </tbody>\n",
       "</table>\n",
       "<p>64 rows × 5 columns</p>\n",
       "</div>"
      ],
      "text/plain": [
       "Company                 EL         ELF         MAC         REV        ULTA\n",
       "High     count  611.000000  611.000000  611.000000  611.000000  611.000000\n",
       "         mean   204.334714   17.282403   22.963552   16.806481  277.014582\n",
       "         std     44.430903    5.551898   13.785082    6.641859   51.155826\n",
       "         min    125.360001    7.990000    5.200000    4.210000  149.059998\n",
       "         25%    172.855003   12.728000    9.365000   11.280000  237.040001\n",
       "...                    ...         ...         ...         ...         ...\n",
       "Lockdown min      0.000000    0.000000    0.000000    0.000000    0.000000\n",
       "         25%      0.000000    0.000000    0.000000    0.000000    0.000000\n",
       "         50%      0.000000    0.000000    0.000000    0.000000    0.000000\n",
       "         75%      1.000000    1.000000    1.000000    1.000000    1.000000\n",
       "         max      1.000000    1.000000    1.000000    1.000000    1.000000\n",
       "\n",
       "[64 rows x 5 columns]"
      ]
     },
     "execution_count": 24,
     "metadata": {},
     "output_type": "execute_result"
    }
   ],
   "source": [
    "stock_data.groupby('Company').describe().transpose()"
   ]
  },
  {
   "cell_type": "markdown",
   "metadata": {},
   "source": [
    "### Display the dataframe information "
   ]
  },
  {
   "cell_type": "code",
   "execution_count": 25,
   "metadata": {},
   "outputs": [
    {
     "name": "stdout",
     "output_type": "stream",
     "text": [
      "<class 'pandas.core.frame.DataFrame'>\n",
      "DatetimeIndex: 3055 entries, 2018-12-04 to 2021-05-10\n",
      "Data columns (total 9 columns):\n",
      " #   Column     Non-Null Count  Dtype  \n",
      "---  ------     --------------  -----  \n",
      " 0   High       3055 non-null   float64\n",
      " 1   Low        3055 non-null   float64\n",
      " 2   Open       3055 non-null   float64\n",
      " 3   Close      3055 non-null   float64\n",
      " 4   Volume     3055 non-null   float64\n",
      " 5   Adj Close  3055 non-null   float64\n",
      " 6   Company    3055 non-null   object \n",
      " 7   Return     3055 non-null   float64\n",
      " 8   Lockdown   3055 non-null   int64  \n",
      "dtypes: float64(7), int64(1), object(1)\n",
      "memory usage: 238.7+ KB\n"
     ]
    }
   ],
   "source": [
    "stock_data.info()"
   ]
  },
  {
   "cell_type": "markdown",
   "metadata": {},
   "source": [
    "### **Conclusion:**  No null entries in the concatenated `stock_data` dataframe."
   ]
  },
  {
   "cell_type": "markdown",
   "metadata": {},
   "source": [
    "## Data Visualization"
   ]
  },
  {
   "cell_type": "markdown",
   "metadata": {},
   "source": [
    "### Plot closing prices and its moving averages\n",
    "\n",
    "#### **Question:** Change of stock over the total duration considered and the trend of moving averages of various stocks"
   ]
  },
  {
   "cell_type": "code",
   "execution_count": 26,
   "metadata": {},
   "outputs": [
    {
     "data": {
      "image/png": "[encoded data removed]",
      "text/plain": [
       "<Figure size 1080x864 with 5 Axes>"
      ]
     },
     "metadata": {
      "needs_background": "light"
     },
     "output_type": "display_data"
    }
   ],
   "source": [
    "plt.figure(figsize=(15, 12))\n",
    "plt.subplots_adjust(top=1.25, bottom=1.2)\n",
    "\n",
    "for i, company in enumerate(company_dataframes):\n",
    "    plt.subplot(3, 2, i+1)\n",
    "    company['Close'].rolling(window=30).mean().plot(label='30 Day Avg')\n",
    "    company['Close'].plot(label='Closing Price')\n",
    "    plt.ylabel('Close')\n",
    "    plt.xlabel(None)\n",
    "    plt.grid()\n",
    "    plt.title(f\"Closing Price and its Moving Avg. for {company_names[i]}\")\n",
    "    \n",
    "plt.tight_layout()"
   ]
  },
  {
   "cell_type": "markdown",
   "metadata": {},
   "source": [
    "### **Conclusion:** \n",
    "\n",
    "As noticed, for every company, the stocks dropped in the period (March-April, 2020) when the lockdown had begun. In particular, for `REVLON`, there is a second drop around September-October, 2020 after the lockdown started which was caused by some restructuring in the company (as per news). We can verify this further by finding out the exact date for the drop of stock prices during the lockdown."
   ]
  },
  {
   "cell_type": "markdown",
   "metadata": {},
   "source": [
    "## Minimum closing stock prices of respective companies"
   ]
  },
  {
   "cell_type": "markdown",
   "metadata": {},
   "source": [
    "### MAC - Minimum Closing Stock Price (whole duration)"
   ]
  },
  {
   "cell_type": "code",
   "execution_count": 27,
   "metadata": {},
   "outputs": [
    {
     "data": {
      "text/html": [
       "<div>\n",
       "<style scoped>\n",
       "    .dataframe tbody tr th:only-of-type {\n",
       "        vertical-align: middle;\n",
       "    }\n",
       "\n",
       "    .dataframe tbody tr th {\n",
       "        vertical-align: top;\n",
       "    }\n",
       "\n",
       "    .dataframe thead th {\n",
       "        text-align: right;\n",
       "    }\n",
       "</style>\n",
       "<table border=\"1\" class=\"dataframe\">\n",
       "  <thead>\n",
       "    <tr style=\"text-align: right;\">\n",
       "      <th></th>\n",
       "      <th>High</th>\n",
       "      <th>Low</th>\n",
       "      <th>Open</th>\n",
       "      <th>Close</th>\n",
       "      <th>Volume</th>\n",
       "      <th>Adj Close</th>\n",
       "      <th>Company</th>\n",
       "      <th>Return</th>\n",
       "    </tr>\n",
       "    <tr>\n",
       "      <th>Date</th>\n",
       "      <th></th>\n",
       "      <th></th>\n",
       "      <th></th>\n",
       "      <th></th>\n",
       "      <th></th>\n",
       "      <th></th>\n",
       "      <th></th>\n",
       "      <th></th>\n",
       "    </tr>\n",
       "  </thead>\n",
       "  <tbody>\n",
       "    <tr>\n",
       "      <th>2020-04-02</th>\n",
       "      <td>5.77</td>\n",
       "      <td>4.85</td>\n",
       "      <td>5.51</td>\n",
       "      <td>5.02</td>\n",
       "      <td>6842100.0</td>\n",
       "      <td>4.637582</td>\n",
       "      <td>MAC</td>\n",
       "      <td>-0.098743</td>\n",
       "    </tr>\n",
       "  </tbody>\n",
       "</table>\n",
       "</div>"
      ],
      "text/plain": [
       "            High   Low  Open  Close     Volume  Adj Close Company    Return\n",
       "Date                                                                       \n",
       "2020-04-02  5.77  4.85  5.51   5.02  6842100.0   4.637582     MAC -0.098743"
      ]
     },
     "execution_count": 27,
     "metadata": {},
     "output_type": "execute_result"
    }
   ],
   "source": [
    "MAC[MAC['Close'] == MAC['Close'].min()]"
   ]
  },
  {
   "cell_type": "markdown",
   "metadata": {},
   "source": [
    "### MAC - Minimum Closing Stock Price (during lockdown)\n",
    "\n",
    "Starting with 1 month earlier than the assumed lockdown start date (`1 March, 2020`)"
   ]
  },
  {
   "cell_type": "code",
   "execution_count": 28,
   "metadata": {},
   "outputs": [
    {
     "data": {
      "text/html": [
       "<div>\n",
       "<style scoped>\n",
       "    .dataframe tbody tr th:only-of-type {\n",
       "        vertical-align: middle;\n",
       "    }\n",
       "\n",
       "    .dataframe tbody tr th {\n",
       "        vertical-align: top;\n",
       "    }\n",
       "\n",
       "    .dataframe thead th {\n",
       "        text-align: right;\n",
       "    }\n",
       "</style>\n",
       "<table border=\"1\" class=\"dataframe\">\n",
       "  <thead>\n",
       "    <tr style=\"text-align: right;\">\n",
       "      <th></th>\n",
       "      <th>High</th>\n",
       "      <th>Low</th>\n",
       "      <th>Open</th>\n",
       "      <th>Close</th>\n",
       "      <th>Volume</th>\n",
       "      <th>Adj Close</th>\n",
       "      <th>Company</th>\n",
       "      <th>Return</th>\n",
       "    </tr>\n",
       "    <tr>\n",
       "      <th>Date</th>\n",
       "      <th></th>\n",
       "      <th></th>\n",
       "      <th></th>\n",
       "      <th></th>\n",
       "      <th></th>\n",
       "      <th></th>\n",
       "      <th></th>\n",
       "      <th></th>\n",
       "    </tr>\n",
       "  </thead>\n",
       "  <tbody>\n",
       "    <tr>\n",
       "      <th>2020-04-02</th>\n",
       "      <td>5.77</td>\n",
       "      <td>4.85</td>\n",
       "      <td>5.51</td>\n",
       "      <td>5.02</td>\n",
       "      <td>6842100.0</td>\n",
       "      <td>4.637582</td>\n",
       "      <td>MAC</td>\n",
       "      <td>-0.098743</td>\n",
       "    </tr>\n",
       "  </tbody>\n",
       "</table>\n",
       "</div>"
      ],
      "text/plain": [
       "            High   Low  Open  Close     Volume  Adj Close Company    Return\n",
       "Date                                                                       \n",
       "2020-04-02  5.77  4.85  5.51   5.02  6842100.0   4.637582     MAC -0.098743"
      ]
     },
     "execution_count": 28,
     "metadata": {},
     "output_type": "execute_result"
    }
   ],
   "source": [
    "MAC[MAC['Close'] == MAC.loc[datetime(2020,2,1):datetime(2021,5,10)]['Close'].min()]"
   ]
  },
  {
   "cell_type": "markdown",
   "metadata": {},
   "source": [
    "### EL - Minimum Closing Stock Price (whole duration)"
   ]
  },
  {
   "cell_type": "code",
   "execution_count": 29,
   "metadata": {},
   "outputs": [
    {
     "data": {
      "text/html": [
       "<div>\n",
       "<style scoped>\n",
       "    .dataframe tbody tr th:only-of-type {\n",
       "        vertical-align: middle;\n",
       "    }\n",
       "\n",
       "    .dataframe tbody tr th {\n",
       "        vertical-align: top;\n",
       "    }\n",
       "\n",
       "    .dataframe thead th {\n",
       "        text-align: right;\n",
       "    }\n",
       "</style>\n",
       "<table border=\"1\" class=\"dataframe\">\n",
       "  <thead>\n",
       "    <tr style=\"text-align: right;\">\n",
       "      <th></th>\n",
       "      <th>High</th>\n",
       "      <th>Low</th>\n",
       "      <th>Open</th>\n",
       "      <th>Close</th>\n",
       "      <th>Volume</th>\n",
       "      <th>Adj Close</th>\n",
       "      <th>Company</th>\n",
       "      <th>Return</th>\n",
       "    </tr>\n",
       "    <tr>\n",
       "      <th>Date</th>\n",
       "      <th></th>\n",
       "      <th></th>\n",
       "      <th></th>\n",
       "      <th></th>\n",
       "      <th></th>\n",
       "      <th></th>\n",
       "      <th></th>\n",
       "      <th></th>\n",
       "    </tr>\n",
       "  </thead>\n",
       "  <tbody>\n",
       "    <tr>\n",
       "      <th>2018-12-24</th>\n",
       "      <td>125.360001</td>\n",
       "      <td>122.040001</td>\n",
       "      <td>125.339996</td>\n",
       "      <td>122.459999</td>\n",
       "      <td>858800.0</td>\n",
       "      <td>120.194557</td>\n",
       "      <td>EL</td>\n",
       "      <td>-0.026705</td>\n",
       "    </tr>\n",
       "  </tbody>\n",
       "</table>\n",
       "</div>"
      ],
      "text/plain": [
       "                  High         Low        Open       Close    Volume  \\\n",
       "Date                                                                   \n",
       "2018-12-24  125.360001  122.040001  125.339996  122.459999  858800.0   \n",
       "\n",
       "             Adj Close Company    Return  \n",
       "Date                                      \n",
       "2018-12-24  120.194557      EL -0.026705  "
      ]
     },
     "execution_count": 29,
     "metadata": {},
     "output_type": "execute_result"
    }
   ],
   "source": [
    "EL[EL['Close'] == EL['Close'].min()]"
   ]
  },
  {
   "cell_type": "markdown",
   "metadata": {},
   "source": [
    "### EL - Minimum Closing Stock Price (during lockdown)"
   ]
  },
  {
   "cell_type": "code",
   "execution_count": 30,
   "metadata": {},
   "outputs": [
    {
     "data": {
      "text/html": [
       "<div>\n",
       "<style scoped>\n",
       "    .dataframe tbody tr th:only-of-type {\n",
       "        vertical-align: middle;\n",
       "    }\n",
       "\n",
       "    .dataframe tbody tr th {\n",
       "        vertical-align: top;\n",
       "    }\n",
       "\n",
       "    .dataframe thead th {\n",
       "        text-align: right;\n",
       "    }\n",
       "</style>\n",
       "<table border=\"1\" class=\"dataframe\">\n",
       "  <thead>\n",
       "    <tr style=\"text-align: right;\">\n",
       "      <th></th>\n",
       "      <th>High</th>\n",
       "      <th>Low</th>\n",
       "      <th>Open</th>\n",
       "      <th>Close</th>\n",
       "      <th>Volume</th>\n",
       "      <th>Adj Close</th>\n",
       "      <th>Company</th>\n",
       "      <th>Return</th>\n",
       "    </tr>\n",
       "    <tr>\n",
       "      <th>Date</th>\n",
       "      <th></th>\n",
       "      <th></th>\n",
       "      <th></th>\n",
       "      <th></th>\n",
       "      <th></th>\n",
       "      <th></th>\n",
       "      <th></th>\n",
       "      <th></th>\n",
       "    </tr>\n",
       "  </thead>\n",
       "  <tbody>\n",
       "    <tr>\n",
       "      <th>2020-03-23</th>\n",
       "      <td>151.970001</td>\n",
       "      <td>140.320007</td>\n",
       "      <td>149.779999</td>\n",
       "      <td>144.380005</td>\n",
       "      <td>2868200.0</td>\n",
       "      <td>143.491623</td>\n",
       "      <td>EL</td>\n",
       "      <td>-0.043841</td>\n",
       "    </tr>\n",
       "  </tbody>\n",
       "</table>\n",
       "</div>"
      ],
      "text/plain": [
       "                  High         Low        Open       Close     Volume  \\\n",
       "Date                                                                    \n",
       "2020-03-23  151.970001  140.320007  149.779999  144.380005  2868200.0   \n",
       "\n",
       "             Adj Close Company    Return  \n",
       "Date                                      \n",
       "2020-03-23  143.491623      EL -0.043841  "
      ]
     },
     "execution_count": 30,
     "metadata": {},
     "output_type": "execute_result"
    }
   ],
   "source": [
    "EL[EL['Close'] == EL.loc[datetime(2020,2,1):datetime(2021,5,10)]['Close'].min()]"
   ]
  },
  {
   "cell_type": "markdown",
   "metadata": {},
   "source": [
    "### ULTA - Minimum Closing Stock Price (whole duration)"
   ]
  },
  {
   "cell_type": "code",
   "execution_count": 31,
   "metadata": {},
   "outputs": [
    {
     "data": {
      "text/html": [
       "<div>\n",
       "<style scoped>\n",
       "    .dataframe tbody tr th:only-of-type {\n",
       "        vertical-align: middle;\n",
       "    }\n",
       "\n",
       "    .dataframe tbody tr th {\n",
       "        vertical-align: top;\n",
       "    }\n",
       "\n",
       "    .dataframe thead th {\n",
       "        text-align: right;\n",
       "    }\n",
       "</style>\n",
       "<table border=\"1\" class=\"dataframe\">\n",
       "  <thead>\n",
       "    <tr style=\"text-align: right;\">\n",
       "      <th></th>\n",
       "      <th>High</th>\n",
       "      <th>Low</th>\n",
       "      <th>Open</th>\n",
       "      <th>Close</th>\n",
       "      <th>Volume</th>\n",
       "      <th>Adj Close</th>\n",
       "      <th>Company</th>\n",
       "      <th>Return</th>\n",
       "    </tr>\n",
       "    <tr>\n",
       "      <th>Date</th>\n",
       "      <th></th>\n",
       "      <th></th>\n",
       "      <th></th>\n",
       "      <th></th>\n",
       "      <th></th>\n",
       "      <th></th>\n",
       "      <th></th>\n",
       "      <th></th>\n",
       "    </tr>\n",
       "  </thead>\n",
       "  <tbody>\n",
       "    <tr>\n",
       "      <th>2020-03-18</th>\n",
       "      <td>149.059998</td>\n",
       "      <td>124.050003</td>\n",
       "      <td>144.720001</td>\n",
       "      <td>128.520004</td>\n",
       "      <td>2367200</td>\n",
       "      <td>128.520004</td>\n",
       "      <td>ULTA</td>\n",
       "      <td>-0.168693</td>\n",
       "    </tr>\n",
       "  </tbody>\n",
       "</table>\n",
       "</div>"
      ],
      "text/plain": [
       "                  High         Low        Open       Close   Volume  \\\n",
       "Date                                                                  \n",
       "2020-03-18  149.059998  124.050003  144.720001  128.520004  2367200   \n",
       "\n",
       "             Adj Close Company    Return  \n",
       "Date                                      \n",
       "2020-03-18  128.520004    ULTA -0.168693  "
      ]
     },
     "execution_count": 31,
     "metadata": {},
     "output_type": "execute_result"
    }
   ],
   "source": [
    "ULTA[ULTA['Close'] == ULTA['Close'].min()]"
   ]
  },
  {
   "cell_type": "markdown",
   "metadata": {},
   "source": [
    "### ULTA - Minimum Closing Stock Price (during lockdown)"
   ]
  },
  {
   "cell_type": "code",
   "execution_count": 32,
   "metadata": {},
   "outputs": [
    {
     "data": {
      "text/html": [
       "<div>\n",
       "<style scoped>\n",
       "    .dataframe tbody tr th:only-of-type {\n",
       "        vertical-align: middle;\n",
       "    }\n",
       "\n",
       "    .dataframe tbody tr th {\n",
       "        vertical-align: top;\n",
       "    }\n",
       "\n",
       "    .dataframe thead th {\n",
       "        text-align: right;\n",
       "    }\n",
       "</style>\n",
       "<table border=\"1\" class=\"dataframe\">\n",
       "  <thead>\n",
       "    <tr style=\"text-align: right;\">\n",
       "      <th></th>\n",
       "      <th>High</th>\n",
       "      <th>Low</th>\n",
       "      <th>Open</th>\n",
       "      <th>Close</th>\n",
       "      <th>Volume</th>\n",
       "      <th>Adj Close</th>\n",
       "      <th>Company</th>\n",
       "      <th>Return</th>\n",
       "    </tr>\n",
       "    <tr>\n",
       "      <th>Date</th>\n",
       "      <th></th>\n",
       "      <th></th>\n",
       "      <th></th>\n",
       "      <th></th>\n",
       "      <th></th>\n",
       "      <th></th>\n",
       "      <th></th>\n",
       "      <th></th>\n",
       "    </tr>\n",
       "  </thead>\n",
       "  <tbody>\n",
       "    <tr>\n",
       "      <th>2020-03-18</th>\n",
       "      <td>149.059998</td>\n",
       "      <td>124.050003</td>\n",
       "      <td>144.720001</td>\n",
       "      <td>128.520004</td>\n",
       "      <td>2367200</td>\n",
       "      <td>128.520004</td>\n",
       "      <td>ULTA</td>\n",
       "      <td>-0.168693</td>\n",
       "    </tr>\n",
       "  </tbody>\n",
       "</table>\n",
       "</div>"
      ],
      "text/plain": [
       "                  High         Low        Open       Close   Volume  \\\n",
       "Date                                                                  \n",
       "2020-03-18  149.059998  124.050003  144.720001  128.520004  2367200   \n",
       "\n",
       "             Adj Close Company    Return  \n",
       "Date                                      \n",
       "2020-03-18  128.520004    ULTA -0.168693  "
      ]
     },
     "execution_count": 32,
     "metadata": {},
     "output_type": "execute_result"
    }
   ],
   "source": [
    "ULTA[ULTA['Close'] == ULTA.loc[datetime(2020,2,1):datetime(2021,5,10)]['Close'].min()]"
   ]
  },
  {
   "cell_type": "markdown",
   "metadata": {},
   "source": [
    "### ELF - Minimum Closing Stock Price (whole duration)"
   ]
  },
  {
   "cell_type": "code",
   "execution_count": 33,
   "metadata": {},
   "outputs": [
    {
     "data": {
      "text/html": [
       "<div>\n",
       "<style scoped>\n",
       "    .dataframe tbody tr th:only-of-type {\n",
       "        vertical-align: middle;\n",
       "    }\n",
       "\n",
       "    .dataframe tbody tr th {\n",
       "        vertical-align: top;\n",
       "    }\n",
       "\n",
       "    .dataframe thead th {\n",
       "        text-align: right;\n",
       "    }\n",
       "</style>\n",
       "<table border=\"1\" class=\"dataframe\">\n",
       "  <thead>\n",
       "    <tr style=\"text-align: right;\">\n",
       "      <th></th>\n",
       "      <th>High</th>\n",
       "      <th>Low</th>\n",
       "      <th>Open</th>\n",
       "      <th>Close</th>\n",
       "      <th>Volume</th>\n",
       "      <th>Adj Close</th>\n",
       "      <th>Company</th>\n",
       "      <th>Return</th>\n",
       "    </tr>\n",
       "    <tr>\n",
       "      <th>Date</th>\n",
       "      <th></th>\n",
       "      <th></th>\n",
       "      <th></th>\n",
       "      <th></th>\n",
       "      <th></th>\n",
       "      <th></th>\n",
       "      <th></th>\n",
       "      <th></th>\n",
       "    </tr>\n",
       "  </thead>\n",
       "  <tbody>\n",
       "    <tr>\n",
       "      <th>2019-02-27</th>\n",
       "      <td>7.99</td>\n",
       "      <td>6.705</td>\n",
       "      <td>7.2</td>\n",
       "      <td>7.3</td>\n",
       "      <td>3814200</td>\n",
       "      <td>7.3</td>\n",
       "      <td>ELF</td>\n",
       "      <td>-0.229958</td>\n",
       "    </tr>\n",
       "  </tbody>\n",
       "</table>\n",
       "</div>"
      ],
      "text/plain": [
       "            High    Low  Open  Close   Volume  Adj Close Company    Return\n",
       "Date                                                                      \n",
       "2019-02-27  7.99  6.705   7.2    7.3  3814200        7.3     ELF -0.229958"
      ]
     },
     "execution_count": 33,
     "metadata": {},
     "output_type": "execute_result"
    }
   ],
   "source": [
    "ELF[ELF['Close'] == ELF['Close'].min()]"
   ]
  },
  {
   "cell_type": "markdown",
   "metadata": {},
   "source": [
    "### ELF - Minimum Closing Stock Price (during lockdown)"
   ]
  },
  {
   "cell_type": "code",
   "execution_count": 34,
   "metadata": {},
   "outputs": [
    {
     "data": {
      "text/html": [
       "<div>\n",
       "<style scoped>\n",
       "    .dataframe tbody tr th:only-of-type {\n",
       "        vertical-align: middle;\n",
       "    }\n",
       "\n",
       "    .dataframe tbody tr th {\n",
       "        vertical-align: top;\n",
       "    }\n",
       "\n",
       "    .dataframe thead th {\n",
       "        text-align: right;\n",
       "    }\n",
       "</style>\n",
       "<table border=\"1\" class=\"dataframe\">\n",
       "  <thead>\n",
       "    <tr style=\"text-align: right;\">\n",
       "      <th></th>\n",
       "      <th>High</th>\n",
       "      <th>Low</th>\n",
       "      <th>Open</th>\n",
       "      <th>Close</th>\n",
       "      <th>Volume</th>\n",
       "      <th>Adj Close</th>\n",
       "      <th>Company</th>\n",
       "      <th>Return</th>\n",
       "    </tr>\n",
       "    <tr>\n",
       "      <th>Date</th>\n",
       "      <th></th>\n",
       "      <th></th>\n",
       "      <th></th>\n",
       "      <th></th>\n",
       "      <th></th>\n",
       "      <th></th>\n",
       "      <th></th>\n",
       "      <th></th>\n",
       "    </tr>\n",
       "  </thead>\n",
       "  <tbody>\n",
       "    <tr>\n",
       "      <th>2020-03-18</th>\n",
       "      <td>8.576</td>\n",
       "      <td>7.87</td>\n",
       "      <td>8.03</td>\n",
       "      <td>8.13</td>\n",
       "      <td>1355900</td>\n",
       "      <td>8.13</td>\n",
       "      <td>ELF</td>\n",
       "      <td>-0.043529</td>\n",
       "    </tr>\n",
       "  </tbody>\n",
       "</table>\n",
       "</div>"
      ],
      "text/plain": [
       "             High   Low  Open  Close   Volume  Adj Close Company    Return\n",
       "Date                                                                      \n",
       "2020-03-18  8.576  7.87  8.03   8.13  1355900       8.13     ELF -0.043529"
      ]
     },
     "execution_count": 34,
     "metadata": {},
     "output_type": "execute_result"
    }
   ],
   "source": [
    "ELF[ELF['Close'] == ELF.loc[datetime(2020,2,1):datetime(2021,5,10)]['Close'].min()]"
   ]
  },
  {
   "cell_type": "markdown",
   "metadata": {},
   "source": [
    "### REV - Minimum Closing Stock Price (whole duration)"
   ]
  },
  {
   "cell_type": "code",
   "execution_count": 35,
   "metadata": {},
   "outputs": [
    {
     "data": {
      "text/html": [
       "<div>\n",
       "<style scoped>\n",
       "    .dataframe tbody tr th:only-of-type {\n",
       "        vertical-align: middle;\n",
       "    }\n",
       "\n",
       "    .dataframe tbody tr th {\n",
       "        vertical-align: top;\n",
       "    }\n",
       "\n",
       "    .dataframe thead th {\n",
       "        text-align: right;\n",
       "    }\n",
       "</style>\n",
       "<table border=\"1\" class=\"dataframe\">\n",
       "  <thead>\n",
       "    <tr style=\"text-align: right;\">\n",
       "      <th></th>\n",
       "      <th>High</th>\n",
       "      <th>Low</th>\n",
       "      <th>Open</th>\n",
       "      <th>Close</th>\n",
       "      <th>Volume</th>\n",
       "      <th>Adj Close</th>\n",
       "      <th>Company</th>\n",
       "      <th>Return</th>\n",
       "    </tr>\n",
       "    <tr>\n",
       "      <th>Date</th>\n",
       "      <th></th>\n",
       "      <th></th>\n",
       "      <th></th>\n",
       "      <th></th>\n",
       "      <th></th>\n",
       "      <th></th>\n",
       "      <th></th>\n",
       "      <th></th>\n",
       "    </tr>\n",
       "  </thead>\n",
       "  <tbody>\n",
       "    <tr>\n",
       "      <th>2020-10-30</th>\n",
       "      <td>4.99</td>\n",
       "      <td>3.97</td>\n",
       "      <td>4.63</td>\n",
       "      <td>4.1</td>\n",
       "      <td>598700</td>\n",
       "      <td>4.1</td>\n",
       "      <td>REV</td>\n",
       "      <td>-0.114471</td>\n",
       "    </tr>\n",
       "  </tbody>\n",
       "</table>\n",
       "</div>"
      ],
      "text/plain": [
       "            High   Low  Open  Close  Volume  Adj Close Company    Return\n",
       "Date                                                                    \n",
       "2020-10-30  4.99  3.97  4.63    4.1  598700        4.1     REV -0.114471"
      ]
     },
     "execution_count": 35,
     "metadata": {},
     "output_type": "execute_result"
    }
   ],
   "source": [
    "REV[REV['Close'] == REV['Close'].min()]"
   ]
  },
  {
   "cell_type": "markdown",
   "metadata": {},
   "source": [
    "### REV - Minimum Closing Stock Price (during lockdown)\n",
    "\n",
    "For `REVLON`, since we have seen that the biggest drop happend in `September-October, 2020`, here we are looking further into the first drop after the lockdown has started."
   ]
  },
  {
   "cell_type": "code",
   "execution_count": 36,
   "metadata": {},
   "outputs": [
    {
     "data": {
      "text/html": [
       "<div>\n",
       "<style scoped>\n",
       "    .dataframe tbody tr th:only-of-type {\n",
       "        vertical-align: middle;\n",
       "    }\n",
       "\n",
       "    .dataframe tbody tr th {\n",
       "        vertical-align: top;\n",
       "    }\n",
       "\n",
       "    .dataframe thead th {\n",
       "        text-align: right;\n",
       "    }\n",
       "</style>\n",
       "<table border=\"1\" class=\"dataframe\">\n",
       "  <thead>\n",
       "    <tr style=\"text-align: right;\">\n",
       "      <th></th>\n",
       "      <th>High</th>\n",
       "      <th>Low</th>\n",
       "      <th>Open</th>\n",
       "      <th>Close</th>\n",
       "      <th>Volume</th>\n",
       "      <th>Adj Close</th>\n",
       "      <th>Company</th>\n",
       "      <th>Return</th>\n",
       "    </tr>\n",
       "    <tr>\n",
       "      <th>Date</th>\n",
       "      <th></th>\n",
       "      <th></th>\n",
       "      <th></th>\n",
       "      <th></th>\n",
       "      <th></th>\n",
       "      <th></th>\n",
       "      <th></th>\n",
       "      <th></th>\n",
       "    </tr>\n",
       "  </thead>\n",
       "  <tbody>\n",
       "    <tr>\n",
       "      <th>2020-04-01</th>\n",
       "      <td>10.51</td>\n",
       "      <td>9.43</td>\n",
       "      <td>10.23</td>\n",
       "      <td>9.43</td>\n",
       "      <td>78600</td>\n",
       "      <td>9.43</td>\n",
       "      <td>REV</td>\n",
       "      <td>-0.137237</td>\n",
       "    </tr>\n",
       "  </tbody>\n",
       "</table>\n",
       "</div>"
      ],
      "text/plain": [
       "             High   Low   Open  Close  Volume  Adj Close Company    Return\n",
       "Date                                                                      \n",
       "2020-04-01  10.51  9.43  10.23   9.43   78600       9.43     REV -0.137237"
      ]
     },
     "execution_count": 36,
     "metadata": {},
     "output_type": "execute_result"
    }
   ],
   "source": [
    "REV[REV['Close'] == REV.loc[datetime(2020,2,1):datetime(2020,5,1)]['Close'].min()]"
   ]
  },
  {
   "cell_type": "markdown",
   "metadata": {},
   "source": [
    "### **Conclusion:** \n",
    "\n",
    "Now we can confirm that within a period of about 2 weeks (`mid March, 2020 to early April, 202`), all companies encountered a significant drop on their stock prices."
   ]
  },
  {
   "cell_type": "markdown",
   "metadata": {},
   "source": [
    "## Maximum closing stock prices of respective companies\n",
    "\n",
    "**Question:** Highest closing price after the lockdown had started"
   ]
  },
  {
   "cell_type": "markdown",
   "metadata": {},
   "source": [
    "### MAC - Maximum Closing Stock Price (during lockdown)"
   ]
  },
  {
   "cell_type": "code",
   "execution_count": 37,
   "metadata": {},
   "outputs": [
    {
     "data": {
      "text/html": [
       "<div>\n",
       "<style scoped>\n",
       "    .dataframe tbody tr th:only-of-type {\n",
       "        vertical-align: middle;\n",
       "    }\n",
       "\n",
       "    .dataframe tbody tr th {\n",
       "        vertical-align: top;\n",
       "    }\n",
       "\n",
       "    .dataframe thead th {\n",
       "        text-align: right;\n",
       "    }\n",
       "</style>\n",
       "<table border=\"1\" class=\"dataframe\">\n",
       "  <thead>\n",
       "    <tr style=\"text-align: right;\">\n",
       "      <th></th>\n",
       "      <th>High</th>\n",
       "      <th>Low</th>\n",
       "      <th>Open</th>\n",
       "      <th>Close</th>\n",
       "      <th>Volume</th>\n",
       "      <th>Adj Close</th>\n",
       "      <th>Company</th>\n",
       "      <th>Return</th>\n",
       "    </tr>\n",
       "    <tr>\n",
       "      <th>Date</th>\n",
       "      <th></th>\n",
       "      <th></th>\n",
       "      <th></th>\n",
       "      <th></th>\n",
       "      <th></th>\n",
       "      <th></th>\n",
       "      <th></th>\n",
       "      <th></th>\n",
       "    </tr>\n",
       "  </thead>\n",
       "  <tbody>\n",
       "    <tr>\n",
       "      <th>2021-01-27</th>\n",
       "      <td>25.99</td>\n",
       "      <td>18.57</td>\n",
       "      <td>21.110001</td>\n",
       "      <td>22.379999</td>\n",
       "      <td>58466600.0</td>\n",
       "      <td>21.869526</td>\n",
       "      <td>MAC</td>\n",
       "      <td>0.150051</td>\n",
       "    </tr>\n",
       "  </tbody>\n",
       "</table>\n",
       "</div>"
      ],
      "text/plain": [
       "             High    Low       Open      Close      Volume  Adj Close Company  \\\n",
       "Date                                                                            \n",
       "2021-01-27  25.99  18.57  21.110001  22.379999  58466600.0  21.869526     MAC   \n",
       "\n",
       "              Return  \n",
       "Date                  \n",
       "2021-01-27  0.150051  "
      ]
     },
     "execution_count": 37,
     "metadata": {},
     "output_type": "execute_result"
    }
   ],
   "source": [
    "MAC[MAC['Close'] == MAC.loc[datetime(2020,4,2):datetime(2021,5,10)]['Close'].max()]"
   ]
  },
  {
   "cell_type": "markdown",
   "metadata": {},
   "source": [
    "### EL - Maximum Closing Stock Price (during lockdown)"
   ]
  },
  {
   "cell_type": "code",
   "execution_count": 38,
   "metadata": {},
   "outputs": [
    {
     "data": {
      "text/html": [
       "<div>\n",
       "<style scoped>\n",
       "    .dataframe tbody tr th:only-of-type {\n",
       "        vertical-align: middle;\n",
       "    }\n",
       "\n",
       "    .dataframe tbody tr th {\n",
       "        vertical-align: top;\n",
       "    }\n",
       "\n",
       "    .dataframe thead th {\n",
       "        text-align: right;\n",
       "    }\n",
       "</style>\n",
       "<table border=\"1\" class=\"dataframe\">\n",
       "  <thead>\n",
       "    <tr style=\"text-align: right;\">\n",
       "      <th></th>\n",
       "      <th>High</th>\n",
       "      <th>Low</th>\n",
       "      <th>Open</th>\n",
       "      <th>Close</th>\n",
       "      <th>Volume</th>\n",
       "      <th>Adj Close</th>\n",
       "      <th>Company</th>\n",
       "      <th>Return</th>\n",
       "    </tr>\n",
       "    <tr>\n",
       "      <th>Date</th>\n",
       "      <th></th>\n",
       "      <th></th>\n",
       "      <th></th>\n",
       "      <th></th>\n",
       "      <th></th>\n",
       "      <th></th>\n",
       "      <th></th>\n",
       "      <th></th>\n",
       "    </tr>\n",
       "  </thead>\n",
       "  <tbody>\n",
       "    <tr>\n",
       "      <th>2021-04-29</th>\n",
       "      <td>318.339996</td>\n",
       "      <td>314.980011</td>\n",
       "      <td>315.429993</td>\n",
       "      <td>316.75</td>\n",
       "      <td>1162200.0</td>\n",
       "      <td>316.75</td>\n",
       "      <td>EL</td>\n",
       "      <td>0.003962</td>\n",
       "    </tr>\n",
       "  </tbody>\n",
       "</table>\n",
       "</div>"
      ],
      "text/plain": [
       "                  High         Low        Open   Close     Volume  Adj Close  \\\n",
       "Date                                                                           \n",
       "2021-04-29  318.339996  314.980011  315.429993  316.75  1162200.0     316.75   \n",
       "\n",
       "           Company    Return  \n",
       "Date                          \n",
       "2021-04-29      EL  0.003962  "
      ]
     },
     "execution_count": 38,
     "metadata": {},
     "output_type": "execute_result"
    }
   ],
   "source": [
    "EL[EL['Close'] == EL.loc[datetime(2020,3,23):datetime(2021,5,10)]['Close'].max()]"
   ]
  },
  {
   "cell_type": "markdown",
   "metadata": {},
   "source": [
    "### ULTA - Maximum Closing Stock Price (during lockdown)"
   ]
  },
  {
   "cell_type": "code",
   "execution_count": 39,
   "metadata": {},
   "outputs": [
    {
     "data": {
      "text/html": [
       "<div>\n",
       "<style scoped>\n",
       "    .dataframe tbody tr th:only-of-type {\n",
       "        vertical-align: middle;\n",
       "    }\n",
       "\n",
       "    .dataframe tbody tr th {\n",
       "        vertical-align: top;\n",
       "    }\n",
       "\n",
       "    .dataframe thead th {\n",
       "        text-align: right;\n",
       "    }\n",
       "</style>\n",
       "<table border=\"1\" class=\"dataframe\">\n",
       "  <thead>\n",
       "    <tr style=\"text-align: right;\">\n",
       "      <th></th>\n",
       "      <th>High</th>\n",
       "      <th>Low</th>\n",
       "      <th>Open</th>\n",
       "      <th>Close</th>\n",
       "      <th>Volume</th>\n",
       "      <th>Adj Close</th>\n",
       "      <th>Company</th>\n",
       "      <th>Return</th>\n",
       "    </tr>\n",
       "    <tr>\n",
       "      <th>Date</th>\n",
       "      <th></th>\n",
       "      <th></th>\n",
       "      <th></th>\n",
       "      <th></th>\n",
       "      <th></th>\n",
       "      <th></th>\n",
       "      <th></th>\n",
       "      <th></th>\n",
       "    </tr>\n",
       "  </thead>\n",
       "  <tbody>\n",
       "    <tr>\n",
       "      <th>2021-03-11</th>\n",
       "      <td>351.0</td>\n",
       "      <td>341.290009</td>\n",
       "      <td>343.0</td>\n",
       "      <td>347.5</td>\n",
       "      <td>1357900</td>\n",
       "      <td>347.5</td>\n",
       "      <td>ULTA</td>\n",
       "      <td>0.012706</td>\n",
       "    </tr>\n",
       "  </tbody>\n",
       "</table>\n",
       "</div>"
      ],
      "text/plain": [
       "             High         Low   Open  Close   Volume  Adj Close Company  \\\n",
       "Date                                                                      \n",
       "2021-03-11  351.0  341.290009  343.0  347.5  1357900      347.5    ULTA   \n",
       "\n",
       "              Return  \n",
       "Date                  \n",
       "2021-03-11  0.012706  "
      ]
     },
     "execution_count": 39,
     "metadata": {},
     "output_type": "execute_result"
    }
   ],
   "source": [
    "ULTA[ULTA['Close'] == ULTA.loc[datetime(2020,3,18):datetime(2021,5,10)]['Close'].max()]"
   ]
  },
  {
   "cell_type": "markdown",
   "metadata": {},
   "source": [
    "### ELF - Maximum Closing Stock Price (during lockdown)"
   ]
  },
  {
   "cell_type": "code",
   "execution_count": 40,
   "metadata": {},
   "outputs": [
    {
     "data": {
      "text/html": [
       "<div>\n",
       "<style scoped>\n",
       "    .dataframe tbody tr th:only-of-type {\n",
       "        vertical-align: middle;\n",
       "    }\n",
       "\n",
       "    .dataframe tbody tr th {\n",
       "        vertical-align: top;\n",
       "    }\n",
       "\n",
       "    .dataframe thead th {\n",
       "        text-align: right;\n",
       "    }\n",
       "</style>\n",
       "<table border=\"1\" class=\"dataframe\">\n",
       "  <thead>\n",
       "    <tr style=\"text-align: right;\">\n",
       "      <th></th>\n",
       "      <th>High</th>\n",
       "      <th>Low</th>\n",
       "      <th>Open</th>\n",
       "      <th>Close</th>\n",
       "      <th>Volume</th>\n",
       "      <th>Adj Close</th>\n",
       "      <th>Company</th>\n",
       "      <th>Return</th>\n",
       "    </tr>\n",
       "    <tr>\n",
       "      <th>Date</th>\n",
       "      <th></th>\n",
       "      <th></th>\n",
       "      <th></th>\n",
       "      <th></th>\n",
       "      <th></th>\n",
       "      <th></th>\n",
       "      <th></th>\n",
       "      <th></th>\n",
       "    </tr>\n",
       "  </thead>\n",
       "  <tbody>\n",
       "    <tr>\n",
       "      <th>2021-04-23</th>\n",
       "      <td>31.290001</td>\n",
       "      <td>30.120001</td>\n",
       "      <td>30.25</td>\n",
       "      <td>31.120001</td>\n",
       "      <td>612700</td>\n",
       "      <td>31.120001</td>\n",
       "      <td>ELF</td>\n",
       "      <td>0.029782</td>\n",
       "    </tr>\n",
       "  </tbody>\n",
       "</table>\n",
       "</div>"
      ],
      "text/plain": [
       "                 High        Low   Open      Close  Volume  Adj Close Company  \\\n",
       "Date                                                                            \n",
       "2021-04-23  31.290001  30.120001  30.25  31.120001  612700  31.120001     ELF   \n",
       "\n",
       "              Return  \n",
       "Date                  \n",
       "2021-04-23  0.029782  "
      ]
     },
     "execution_count": 40,
     "metadata": {},
     "output_type": "execute_result"
    }
   ],
   "source": [
    "ELF[ELF['Close'] == ELF.loc[datetime(2020,3,18):datetime(2021,5,10)]['Close'].max()]"
   ]
  },
  {
   "cell_type": "markdown",
   "metadata": {},
   "source": [
    "### REV - Maximum Closing Stock Price (during lockdown)\n",
    "\n",
    "For `REVLON` specifically, time window is chosen from `November, 2020` (to avoid the stock price drop in `\n",
    "September-October, 2020`) to till date."
   ]
  },
  {
   "cell_type": "code",
   "execution_count": 41,
   "metadata": {},
   "outputs": [
    {
     "data": {
      "text/html": [
       "<div>\n",
       "<style scoped>\n",
       "    .dataframe tbody tr th:only-of-type {\n",
       "        vertical-align: middle;\n",
       "    }\n",
       "\n",
       "    .dataframe tbody tr th {\n",
       "        vertical-align: top;\n",
       "    }\n",
       "\n",
       "    .dataframe thead th {\n",
       "        text-align: right;\n",
       "    }\n",
       "</style>\n",
       "<table border=\"1\" class=\"dataframe\">\n",
       "  <thead>\n",
       "    <tr style=\"text-align: right;\">\n",
       "      <th></th>\n",
       "      <th>High</th>\n",
       "      <th>Low</th>\n",
       "      <th>Open</th>\n",
       "      <th>Close</th>\n",
       "      <th>Volume</th>\n",
       "      <th>Adj Close</th>\n",
       "      <th>Company</th>\n",
       "      <th>Return</th>\n",
       "    </tr>\n",
       "    <tr>\n",
       "      <th>Date</th>\n",
       "      <th></th>\n",
       "      <th></th>\n",
       "      <th></th>\n",
       "      <th></th>\n",
       "      <th></th>\n",
       "      <th></th>\n",
       "      <th></th>\n",
       "      <th></th>\n",
       "    </tr>\n",
       "  </thead>\n",
       "  <tbody>\n",
       "    <tr>\n",
       "      <th>2021-01-27</th>\n",
       "      <td>19.0</td>\n",
       "      <td>14.38</td>\n",
       "      <td>17.709999</td>\n",
       "      <td>17.459999</td>\n",
       "      <td>2839600</td>\n",
       "      <td>17.459999</td>\n",
       "      <td>REV</td>\n",
       "      <td>0.321726</td>\n",
       "    </tr>\n",
       "  </tbody>\n",
       "</table>\n",
       "</div>"
      ],
      "text/plain": [
       "            High    Low       Open      Close   Volume  Adj Close Company  \\\n",
       "Date                                                                        \n",
       "2021-01-27  19.0  14.38  17.709999  17.459999  2839600  17.459999     REV   \n",
       "\n",
       "              Return  \n",
       "Date                  \n",
       "2021-01-27  0.321726  "
      ]
     },
     "execution_count": 41,
     "metadata": {},
     "output_type": "execute_result"
    }
   ],
   "source": [
    "REV[REV['Close'] == REV.loc[datetime(2020,11,1):datetime(2021,5,10)]['Close'].max()]"
   ]
  },
  {
   "cell_type": "markdown",
   "metadata": {},
   "source": [
    "### **Conclusion:** \n",
    "\n",
    "All companies have experienced a huge leap in closing stock prices during either `Jan, 2021` or `March-April, 2021`. Some of these periods coincide with popular beauty sales (such as, `SEPHORA Spring Sale`)."
   ]
  },
  {
   "cell_type": "markdown",
   "metadata": {},
   "source": [
    "### Pair Plot \n",
    "\n",
    "To quickly visualize the correlation between the columns"
   ]
  },
  {
   "cell_type": "code",
   "execution_count": null,
   "metadata": {},
   "outputs": [],
   "source": [
    "sns.pairplot(stock_data,hue='Lockdown')"
   ]
  },
  {
   "cell_type": "markdown",
   "metadata": {},
   "source": [
    "### Plot Total Volume of Stock\n",
    "\n",
    "**Question:** Trend in volume traded over the whole duration considered"
   ]
  },
  {
   "cell_type": "code",
   "execution_count": null,
   "metadata": {},
   "outputs": [],
   "source": [
    "plt.figure(figsize=(15, 12))\n",
    "plt.subplots_adjust(top=1.25, bottom=1.2)\n",
    "\n",
    "for i, company in enumerate(company_dataframes):\n",
    "    plt.subplot(3, 2, i+1)\n",
    "    company['Volume'].plot()\n",
    "    plt.ylabel('Volume')\n",
    "    plt.xlabel(None)\n",
    "    plt.grid()\n",
    "    plt.title(f\"Volume traded by {company_names[i]}\")\n",
    "    \n",
    "plt.tight_layout()"
   ]
  },
  {
   "cell_type": "markdown",
   "metadata": {},
   "source": [
    "### **Conclusion:** \n",
    "\n",
    "All companies encountered a spike in the volume of stocks traded within the period of about `Dec, 2020 to end of April, 2021` after the lockdown has started. This trend aligns with our previous conclusion."
   ]
  },
  {
   "cell_type": "markdown",
   "metadata": {},
   "source": [
    "## Plot Daily Return\n",
    "\n",
    "**Question:** Daily return of stock"
   ]
  },
  {
   "cell_type": "code",
   "execution_count": null,
   "metadata": {},
   "outputs": [],
   "source": [
    "plt.figure(figsize=(15, 12))\n",
    "plt.subplots_adjust(top=1.25, bottom=1.2)\n",
    "\n",
    "for i, company in enumerate(company_dataframes):\n",
    "    plt.subplot(3, 2, i+1)\n",
    "    company['Return'].plot(label='Daily Return', linestyle='dashed', marker = 'o')\n",
    "    plt.ylabel('Return')\n",
    "    plt.xlabel(None)\n",
    "    plt.grid()\n",
    "    plt.title(f\"Daily Return for {company_names[i]}\")\n",
    "    \n",
    "plt.tight_layout()"
   ]
  },
  {
   "cell_type": "markdown",
   "metadata": {},
   "source": [
    "## Plot Heatmap Correlation Matrix\n",
    "\n",
    "**Question:** see correlation in closing price between companies"
   ]
  },
  {
   "cell_type": "code",
   "execution_count": null,
   "metadata": {},
   "outputs": [],
   "source": [
    "corr_df = pd.DataFrame()"
   ]
  },
  {
   "cell_type": "code",
   "execution_count": null,
   "metadata": {},
   "outputs": [],
   "source": [
    "for company_dataframe, company_name in zip(company_dataframes, company_names):\n",
    "    corr_df[company_name] = company_dataframe['Close']"
   ]
  },
  {
   "cell_type": "code",
   "execution_count": null,
   "metadata": {},
   "outputs": [],
   "source": [
    "corr_df.head()"
   ]
  },
  {
   "cell_type": "code",
   "execution_count": null,
   "metadata": {},
   "outputs": [],
   "source": [
    "sns.heatmap(corr_df.corr(), annot=True)"
   ]
  },
  {
   "cell_type": "markdown",
   "metadata": {},
   "source": [
    "## Plot Standard Deviation of Return\n",
    "\n",
    "**Question:** Checking the standard deviation of the return of the companies. Narrower the width, lesser the risk. "
   ]
  },
  {
   "cell_type": "code",
   "execution_count": null,
   "metadata": {},
   "outputs": [],
   "source": [
    "plt.figure(figsize=(12, 12))\n",
    "plt.subplots_adjust(top=1.25, bottom=1.2)\n",
    "\n",
    "for i, company in enumerate(company_dataframes):\n",
    "    plt.subplot(3, 2, i+1)\n",
    "    sns.distplot(company['Return'], bins=100, color='purple')\n",
    "    #plt.hist(company['Return'])\n",
    "    #plt.displot(company['Return'])\n",
    "    #company['Return'].plot(label='Daily Return', linestyle='dashed', marker = 'o')\n",
    "    plt.ylabel('Return')\n",
    "    plt.xlabel(None)\n",
    "    plt.grid()\n",
    "    plt.title(f\"Daily Return for {company_names[i]}\")\n",
    "    \n",
    "plt.tight_layout()"
   ]
  },
  {
   "cell_type": "markdown",
   "metadata": {},
   "source": [
    "## Model Training"
   ]
  },
  {
   "cell_type": "markdown",
   "metadata": {},
   "source": [
    "### Create new dataframe with only the `Close` column"
   ]
  },
  {
   "cell_type": "code",
   "execution_count": null,
   "metadata": {},
   "outputs": [],
   "source": [
    "data = stock_data[stock_data['Company'] == 'MAC'].filter(['Close'])"
   ]
  },
  {
   "cell_type": "markdown",
   "metadata": {},
   "source": [
    "### Convert the dataframe to a numpy array"
   ]
  },
  {
   "cell_type": "code",
   "execution_count": null,
   "metadata": {},
   "outputs": [],
   "source": [
    "dataset = data.values"
   ]
  },
  {
   "cell_type": "markdown",
   "metadata": {},
   "source": [
    "### Prepare the training data by selecting a data range from starting date to any dat`\n",
    "\n",
    "`31st December, 2020` has been selected as the end date"
   ]
  },
  {
   "cell_type": "code",
   "execution_count": null,
   "metadata": {},
   "outputs": [],
   "source": [
    "# Get the number of rows to train the model on\n",
    "training_data_len = len(data.loc[start_date:datetime(2020, 12, 31)])"
   ]
  },
  {
   "cell_type": "code",
   "execution_count": null,
   "metadata": {},
   "outputs": [],
   "source": [
    "training_data_len"
   ]
  },
  {
   "cell_type": "markdown",
   "metadata": {},
   "source": [
    "### Feature Scaling\n",
    "\n",
    "* Use `MinMaxScalar` normalization for feature scaling within a range given"
   ]
  },
  {
   "cell_type": "code",
   "execution_count": null,
   "metadata": {},
   "outputs": [],
   "source": [
    "scaler = MinMaxScaler(feature_range=(0, 1))\n",
    "scaled_data = scaler.fit_transform(dataset)"
   ]
  },
  {
   "cell_type": "markdown",
   "metadata": {},
   "source": [
    "### Create the scaled training dataset"
   ]
  },
  {
   "cell_type": "code",
   "execution_count": null,
   "metadata": {},
   "outputs": [],
   "source": [
    "train_data = scaled_data[0:int(training_data_len), :]"
   ]
  },
  {
   "cell_type": "markdown",
   "metadata": {},
   "source": [
    "### Time step configuration \n",
    "\n",
    "Used for RNN LSTM to look back for predicting the future values. `45 days` and `60 days` have been tested and `60 days` has been found to be the better performant"
   ]
  },
  {
   "cell_type": "code",
   "execution_count": null,
   "metadata": {},
   "outputs": [],
   "source": [
    "TIME_STEPS = 60"
   ]
  },
  {
   "cell_type": "markdown",
   "metadata": {},
   "source": [
    "### Prepare Train and Test Splits\n",
    "\n",
    "* Creating a data structure with `TIME_STEPS` timesteps (look back `TIME_STEPS` no of days) and 1 output\n",
    "* This informs the RNN what to remember (number of timesteps) when predicting the next closing stock price\n",
    "* The wrong number of timesteps can lead to overfitting or prone to errors"
   ]
  },
  {
   "cell_type": "code",
   "execution_count": null,
   "metadata": {},
   "outputs": [],
   "source": [
    "# 'x_train' Input with TIME_STEPS previous days' stock prices\n",
    "X_train = []\n",
    "# 'y_train' Output with next day's stock price\n",
    "y_train = []\n",
    "\n",
    "for i in range(TIME_STEPS, len(train_data)):\n",
    "    X_train.append(train_data[i-TIME_STEPS:i, 0])\n",
    "    y_train.append(train_data[i, 0])\n",
    "\n",
    "X_train, y_train = np.array(X_train), np.array(y_train)"
   ]
  },
  {
   "cell_type": "markdown",
   "metadata": {},
   "source": [
    "### Reshape the data\n",
    "\n",
    "3 dimensional array is required for LSTM model"
   ]
  },
  {
   "cell_type": "code",
   "execution_count": null,
   "metadata": {},
   "outputs": [],
   "source": [
    "X_train = np.reshape(X_train, (X_train.shape[0], X_train.shape[1], 1))"
   ]
  },
  {
   "cell_type": "code",
   "execution_count": null,
   "metadata": {},
   "outputs": [],
   "source": [
    "X_train.shape"
   ]
  },
  {
   "cell_type": "markdown",
   "metadata": {},
   "source": [
    "### RNN Model\n",
    "\n",
    "Regression is when we predict a continuous value. Here a RNN model with LSTM layer is used that can remember the trend/characteristics of sequences to perform future predictions. Here, closing stock prices of the last `60 days` are used to predict the next closing price."
   ]
  },
  {
   "cell_type": "code",
   "execution_count": null,
   "metadata": {},
   "outputs": [],
   "source": [
    "regressor = Sequential()"
   ]
  },
  {
   "cell_type": "code",
   "execution_count": null,
   "metadata": {},
   "outputs": [],
   "source": [
    "# First LSTM layer and some Dropout regularisation\n",
    "# 'units' is the number of LSTM Memory Cells (Neurons) for higher dimensionality\n",
    "# 'return_sequences = True' because we will add more stacked LSTM Layers\n",
    "# 'input_shape' of x_train\n",
    "regressor.add(LSTM(units=128, return_sequences=True, input_shape=(X_train.shape[1], 1)))\n",
    "\n",
    "# 20% of Neurons will be ignored to prevent overfitting\n",
    "regressor.add(Dropout(0.2))\n",
    "\n",
    "# Second LSTM layer with 64 neurons and further used 20% drop of neurons  \n",
    "regressor.add(LSTM(units=64, return_sequences=False))\n",
    "regressor.add(Dropout(0.2))\n",
    "\n",
    "# Dense layer with 64 neurons\n",
    "regressor.add(Dense(units = 64))\n",
    "\n",
    "# Output layer\n",
    "# 'units = 1' because Output layer has one dimension\n",
    "regressor.add(Dense(units = 1))\n",
    "\n",
    "# Compiling the RNN\n",
    "# 'adam' optimizer is chosen\n",
    "# loss = 'mean_squared_error' as it is good for regression\n",
    "regressor.compile(optimizer='adam', loss='mean_squared_error')\n",
    "\n",
    "regressor.summary()"
   ]
  },
  {
   "cell_type": "markdown",
   "metadata": {},
   "source": [
    "### Fitting RNN to Training Set"
   ]
  },
  {
   "cell_type": "code",
   "execution_count": null,
   "metadata": {},
   "outputs": [],
   "source": [
    "regressor.fit(X_train, y_train, epochs=25, batch_size=32)"
   ]
  },
  {
   "cell_type": "markdown",
   "metadata": {},
   "source": [
    "### Prepare Test Data \n",
    "\n",
    "* Create a new array containing scaled values \n",
    "* Chose the next values after the first set of values that are used as training data "
   ]
  },
  {
   "cell_type": "code",
   "execution_count": null,
   "metadata": {},
   "outputs": [],
   "source": [
    "test_data = scaled_data[training_data_len - TIME_STEPS: , :]"
   ]
  },
  {
   "cell_type": "code",
   "execution_count": null,
   "metadata": {},
   "outputs": [],
   "source": [
    "# Create the datasets X_test and y_test\n",
    "X_test = []\n",
    "y_test = dataset[training_data_len:, :]"
   ]
  },
  {
   "cell_type": "code",
   "execution_count": null,
   "metadata": {},
   "outputs": [],
   "source": [
    "y_test.shape"
   ]
  },
  {
   "cell_type": "code",
   "execution_count": null,
   "metadata": {},
   "outputs": [],
   "source": [
    "for i in range(TIME_STEPS, len(test_data)):\n",
    "    X_test.append(test_data[i-TIME_STEPS:i, 0])"
   ]
  },
  {
   "cell_type": "markdown",
   "metadata": {},
   "source": [
    "### Conversion to numpy array"
   ]
  },
  {
   "cell_type": "code",
   "execution_count": null,
   "metadata": {},
   "outputs": [],
   "source": [
    "X_test = np.array(X_test)"
   ]
  },
  {
   "cell_type": "code",
   "execution_count": null,
   "metadata": {},
   "outputs": [],
   "source": [
    "X_test.shape"
   ]
  },
  {
   "cell_type": "markdown",
   "metadata": {},
   "source": [
    "###  Reshaping (add third dimension for LSTM requirement)"
   ]
  },
  {
   "cell_type": "code",
   "execution_count": null,
   "metadata": {},
   "outputs": [],
   "source": [
    "X_test = np.reshape(X_test, (X_test.shape[0], X_test.shape[1], 1))"
   ]
  },
  {
   "cell_type": "markdown",
   "metadata": {},
   "source": [
    "### Model Prediction"
   ]
  },
  {
   "cell_type": "code",
   "execution_count": null,
   "metadata": {},
   "outputs": [],
   "source": [
    "predictions = regressor.predict(X_test)\n",
    "predictions = scaler.inverse_transform(predictions)"
   ]
  },
  {
   "cell_type": "markdown",
   "metadata": {},
   "source": [
    "### Root Mean Squared Error (RMSE)"
   ]
  },
  {
   "cell_type": "code",
   "execution_count": null,
   "metadata": {},
   "outputs": [],
   "source": [
    "rmse = np.sqrt(np.mean(((predictions - y_test) ** 2)))\n",
    "rmse"
   ]
  },
  {
   "cell_type": "markdown",
   "metadata": {},
   "source": [
    "### Plot Predictions"
   ]
  },
  {
   "cell_type": "code",
   "execution_count": null,
   "metadata": {},
   "outputs": [],
   "source": [
    "train = data[:training_data_len]\n",
    "test = data[training_data_len:]\n",
    "test['Predictions'] = predictions"
   ]
  },
  {
   "cell_type": "markdown",
   "metadata": {},
   "source": [
    "### Check few Predictions"
   ]
  },
  {
   "cell_type": "code",
   "execution_count": null,
   "metadata": {
    "scrolled": true
   },
   "outputs": [],
   "source": [
    "test.head(5)"
   ]
  },
  {
   "cell_type": "markdown",
   "metadata": {},
   "source": [
    "### Visualize the Predictions"
   ]
  },
  {
   "cell_type": "code",
   "execution_count": null,
   "metadata": {},
   "outputs": [],
   "source": [
    "plt.figure(figsize=(16,6))\n",
    "plt.title('Model')\n",
    "plt.xlabel('Date', fontsize=18)\n",
    "plt.ylabel('Close Price USD ($)', fontsize=18)\n",
    "plt.plot(train['Close'])\n",
    "plt.plot(test[['Close', 'Predictions']])\n",
    "plt.legend(['train_data_true', 'test_data_true', 'test_data_pred'], loc='lower right')\n",
    "plt.grid()\n",
    "plt.show()"
   ]
  },
  {
   "cell_type": "markdown",
   "metadata": {},
   "source": [
    "### Future Work\n",
    "\n",
    "Further enhancements can be applied to the model optimization with proper hyper parameter tuning using callbacks to reduce the error further without overfitting."
   ]
  },
  {
   "cell_type": "markdown",
   "metadata": {},
   "source": [
    "## Overall Conclusion\n",
    "\n",
    "Even though the beauty industry has been affected due to COVID-19 pandemic, the companies started to recover since last quarter as people started taking care of their health and wellness. In addition, in the pandemic period, the online retail purchases have been increased due to the difficulty of people to shop in physical retail stores. Slowly I believe the industry will be reinstated."
   ]
  }
 ],
 "metadata": {
  "kernelspec": {
   "display_name": "Python 3",
   "language": "python",
   "name": "python3"
  },
  "language_info": {
   "codemirror_mode": {
    "name": "ipython",
    "version": 3
   },
   "file_extension": ".py",
   "mimetype": "text/x-python",
   "name": "python",
   "nbconvert_exporter": "python",
   "pygments_lexer": "ipython3",
   "version": "3.7.3"
  }
 },
 "nbformat": 4,
 "nbformat_minor": 4
}
